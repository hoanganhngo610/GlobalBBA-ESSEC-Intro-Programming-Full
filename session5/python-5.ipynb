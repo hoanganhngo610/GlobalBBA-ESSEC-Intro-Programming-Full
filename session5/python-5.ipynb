{
 "cells": [
  {
   "cell_type": "markdown",
   "metadata": {
    "slideshow": {
     "slide_type": "slide"
    }
   },
   "source": [
    "# Introduction to Programming – Python\n",
    "----\n",
    "## Course 5 – Files, Modules and Exceptions\n",
    "\n",
    "### ESSEC Business School\n",
    "\n",
    "[gael.guibon@gmail.com](gael.guibon@gmail.com)\n",
    "\n",
    "[gael.guibon@telecom-paris.fr](gael.guibon@telecom-paris.fr)\n",
    "\n",
    "Licenced under Affero GNU3"
   ]
  },
  {
   "cell_type": "markdown",
   "metadata": {
    "slideshow": {
     "slide_type": "slide"
    }
   },
   "source": [
    "# Summary\n",
    "- **instructions** : `print()`\n",
    "- **basic operators** : logic (`and or`), math (`+ = - /`), membership (`in` `not in`)\n",
    "- **variables** : `name = city` `city = 'Cergy'` \n",
    "- **types concepts and basics** and conversion : `type()` `str()` `bool()` `int()` `float()`\n",
    "- **conditions and nested conditions** : indentations !\n",
    "- **lists and lists functions** : `list()`, `myList = ['hello', 'world']`, `myList.append()`, `len(myList)` etc.\n",
    "- **loops** : while `while conditionIsTrue:` and for `for element in elementList:`, `break`, `continue`\n",
    "- **dictionaries** : `dict()`, `{key:value}`, nested dict `{key: {key:value} }`, `list(d.keys())`, `for k,v in d.items()`\n",
    "- **functions** : `def myFunction(arg1): return True`, variable scope, docstrings `\"\"\" my doc \"\"\"`, etc.\n",
    "- Mini textual game"
   ]
  },
  {
   "cell_type": "markdown",
   "metadata": {},
   "source": [
    "# Install local python environnement\n",
    "At home you may want to use Python locally. Here are the steps:\n",
    "1. Download the latest Python (Python3 not 2) from here: [https://www.python.org/downloads/](https://www.python.org/downloads/)\n",
    "2. Install it (if you are using Ubuntu 16.04 you already have Python installed)\n",
    "\n",
    "Start using it:\n",
    "- Open terminal(unix/mac) or CommandLine(windows), type `python` to start an interactive python environnement\n",
    "- Create a file named `my_super_program.py` and type `print('hello')` inside. Execute this file by typing `python3 my_super_program.py`.\n",
    "\n",
    "To code you may need an IDE for smoother coding. I would suggest [Visual Studio Code](https://code.visualstudio.com/Download). For a python only IDE the best one would be [PyCharm](https://www.jetbrains.com/pycharm/)."
   ]
  },
  {
   "cell_type": "markdown",
   "metadata": {
    "slideshow": {
     "slide_type": "slide"
    }
   },
   "source": [
    "# File handling\n",
    "A program often need to access a file from your file system. For this you need:\n",
    "1. A **file path** (*i.e.* the location). It can be:\n",
    "    - absolute: `/home/gael/Documents/my_super_file.txt`\n",
    "    - relative: `Documents/my_super_file.txt` (when you want to access it from `/home/gael/`\n",
    "2. A **function** `open()` to handle files:\n",
    "    - **Create** a file from scratch: `myFile = open(file_path, 'w')`\n",
    "    - **Write** in a file opened with 'w': `myFile.write('hello world')`\n",
    "    - **Read** a file: `myFile = open(file_path, 'r')`\n",
    "    - **Close** a file: `myFile.close()`"
   ]
  },
  {
   "cell_type": "markdown",
   "metadata": {
    "slideshow": {
     "slide_type": "slide"
    }
   },
   "source": [
    "Create a file named 'test.txt':"
   ]
  },
  {
   "cell_type": "code",
   "execution_count": null,
   "metadata": {},
   "outputs": [],
   "source": [
    "myFile = open('test.txt', 'w') # create the file with 'w' access (w = write) and get the file object variable"
   ]
  },
  {
   "cell_type": "markdown",
   "metadata": {
    "slideshow": {
     "slide_type": "slide"
    }
   },
   "source": [
    "Write a String content into the file:"
   ]
  },
  {
   "cell_type": "code",
   "execution_count": null,
   "metadata": {},
   "outputs": [],
   "source": [
    "myFile.write('All hail Python') # write function is available if the file was opened with 'w'"
   ]
  },
  {
   "cell_type": "markdown",
   "metadata": {
    "slideshow": {
     "slide_type": "slide"
    }
   },
   "source": [
    "Always close a file once you are done with it:"
   ]
  },
  {
   "cell_type": "code",
   "execution_count": null,
   "metadata": {},
   "outputs": [],
   "source": [
    "myFile.close()"
   ]
  },
  {
   "cell_type": "markdown",
   "metadata": {
    "slideshow": {
     "slide_type": "slide"
    }
   },
   "source": [
    "Read a file and get the value into a variable:"
   ]
  },
  {
   "cell_type": "code",
   "execution_count": null,
   "metadata": {},
   "outputs": [],
   "source": [
    "myFile = open('test.txt', 'r') # open an existing file with 'r' (r = read)\n",
    "fileContent = myFile.read() # put the content into a variable\n",
    "myFile.close()\n",
    "print(fileContent) # display the content"
   ]
  },
  {
   "cell_type": "markdown",
   "metadata": {
    "slideshow": {
     "slide_type": "slide"
    }
   },
   "source": [
    "Append content to a file:"
   ]
  },
  {
   "cell_type": "code",
   "execution_count": null,
   "metadata": {},
   "outputs": [],
   "source": [
    "myFile = open('test.txt', 'a') # a = append w = write r = read\n",
    "myFile.write('\\nAnd Java !')\n",
    "myFile.close()"
   ]
  },
  {
   "cell_type": "markdown",
   "metadata": {
    "slideshow": {
     "slide_type": "slide"
    }
   },
   "source": [
    "Read the file again to display its new content"
   ]
  },
  {
   "cell_type": "code",
   "execution_count": null,
   "metadata": {},
   "outputs": [],
   "source": [
    "myFile = open('test.txt', 'r')\n",
    "newContent = myFile.read()\n",
    "myFile.close()\n",
    "print(newContent)"
   ]
  },
  {
   "cell_type": "markdown",
   "metadata": {
    "slideshow": {
     "slide_type": "slide"
    }
   },
   "source": [
    "Shortcut to autoclosing files:"
   ]
  },
  {
   "cell_type": "code",
   "execution_count": null,
   "metadata": {},
   "outputs": [],
   "source": [
    "# with open('students.txt', 'w') as f:\n",
    "#     f.write('Students:\\n')\n",
    "\n",
    "# students = ['Aleksander', 'Roxane', 'Hugo', 'Giulia']\n",
    "# with open('students.txt', 'a') as f:\n",
    "#     for student in students:\n",
    "#         f.write(student + '\\n')\n",
    "\n",
    "with open('students.txt', 'r') as f:\n",
    "    print( f.read() )\n",
    "    \n",
    "    \n"
   ]
  },
  {
   "cell_type": "markdown",
   "metadata": {
    "slideshow": {
     "slide_type": "slide"
    }
   },
   "source": [
    "# Modules\n",
    "Python possess a huge ecosystem with modules for everything. A lot of them are already available, such as the `json` module.\n",
    "The `json` allows you to insert a dictionary or a list of dictionaries into a file, and to access it later on.\n",
    "\n",
    "To use modules you need:\n",
    "1. to import them `import json`\n",
    "2. to look at their documentation: https://docs.python.org/fr/3/library/json.html"
   ]
  },
  {
   "cell_type": "markdown",
   "metadata": {
    "slideshow": {
     "slide_type": "slide"
    }
   },
   "source": [
    "Create a dict and put it inside a json file:"
   ]
  },
  {
   "cell_type": "code",
   "execution_count": null,
   "metadata": {},
   "outputs": [],
   "source": [
    "import json\n",
    "\n",
    "events = {'run': {'message': 'You tried to run but the dog bites you.'}, 'feed': {'message':'You fed the dog with your arm. That hurt!'} }\n",
    "\n",
    "with open(\"test.json\", \"w\") as myFile:\n",
    "    json.dump(events, myFile)"
   ]
  },
  {
   "cell_type": "markdown",
   "metadata": {
    "slideshow": {
     "slide_type": "slide"
    }
   },
   "source": [
    "Now let us read the json file in a normal way:"
   ]
  },
  {
   "cell_type": "code",
   "execution_count": null,
   "metadata": {},
   "outputs": [],
   "source": [
    "myFile = open('test.json', 'r')\n",
    "content = myFile.read()\n",
    "myFile.close()\n",
    "print(type(content))\n",
    "print(content)"
   ]
  },
  {
   "cell_type": "markdown",
   "metadata": {
    "slideshow": {
     "slide_type": "slide"
    }
   },
   "source": [
    "The content is a String but we wanted to parsed it as a dictionary.\n",
    "To do so we can use the `json` module to open it:"
   ]
  },
  {
   "cell_type": "code",
   "execution_count": null,
   "metadata": {},
   "outputs": [],
   "source": [
    "myFile = open('test.json', 'r')\n",
    "content = json.load(myFile)\n",
    "print(type(content))\n",
    "print(content)\n",
    "print(content['run']) \n"
   ]
  },
  {
   "cell_type": "markdown",
   "metadata": {
    "slideshow": {
     "slide_type": "slide"
    }
   },
   "source": [
    "The `json` module can read or write from String representations:"
   ]
  },
  {
   "cell_type": "code",
   "execution_count": null,
   "metadata": {},
   "outputs": [],
   "source": [
    "contentString = '{\"type\":\"I am a string dict, not a real one\"}'\n",
    "content = json.loads( contentString )\n",
    "myFile.close()\n",
    "print('from', type(contentString), 'to', type(content))\n",
    "\n",
    "eventsString = json.dumps( events )\n",
    "print('from', type(events) , 'to', type(eventsString) )"
   ]
  },
  {
   "cell_type": "markdown",
   "metadata": {
    "slideshow": {
     "slide_type": "slide"
    }
   },
   "source": [
    "# Exceptions\n",
    "\n",
    "Sometimes errors happen, and you want to handle them to display or do something else.\n",
    "\n",
    "- You need to `try` something  .\n",
    "- To catch the exceptions on what you tried `except` \n",
    "- Errors catched can be displayed manually with `sys.exc_info()[0]` from the `sys` module"
   ]
  },
  {
   "cell_type": "code",
   "execution_count": null,
   "metadata": {},
   "outputs": [],
   "source": [
    "# first import the sys module (sys = system)\n",
    "import sys, json, re"
   ]
  },
  {
   "cell_type": "markdown",
   "metadata": {
    "slideshow": {
     "slide_type": "slide"
    }
   },
   "source": [
    "Without exception handling the program will crash:"
   ]
  },
  {
   "cell_type": "code",
   "execution_count": null,
   "metadata": {},
   "outputs": [],
   "source": [
    "# without exceptions the program will crash\n",
    "print( cake ) # variable cake is not defined, hence it will crash"
   ]
  },
  {
   "cell_type": "markdown",
   "metadata": {
    "slideshow": {
     "slide_type": "slide"
    }
   },
   "source": [
    "With exception handling you can do something else in case this throws an error:"
   ]
  },
  {
   "cell_type": "code",
   "execution_count": null,
   "metadata": {},
   "outputs": [],
   "source": [
    "# del cake\n",
    "cake = 'yummy'\n",
    "try:\n",
    "    print( cake )\n",
    "except:\n",
    "    print('I crashed! Shame on me uh?')\n",
    "#     print( 'A problem occurred!')\n",
    "#     print( 'the error is', sys.exc_info()[0])"
   ]
  },
  {
   "cell_type": "markdown",
   "metadata": {
    "slideshow": {
     "slide_type": "slide"
    }
   },
   "source": [
    "You can specify an action for each different exception type (using their name). \n",
    "\n",
    "`except NameError` or `except (NameError, ValueError)`"
   ]
  },
  {
   "cell_type": "code",
   "execution_count": null,
   "metadata": {},
   "outputs": [],
   "source": [
    "\n",
    "try:\n",
    "    print( float('0.00000') )\n",
    "except NameError :\n",
    "    print( 'name error catched' )\n",
    "    pass\n",
    "except ValueError :\n",
    "    print('value error catched')\n",
    "    pass\n",
    "    "
   ]
  },
  {
   "cell_type": "markdown",
   "metadata": {
    "slideshow": {
     "slide_type": "slide"
    }
   },
   "source": [
    "Manual error messages can be created with `raise` :"
   ]
  },
  {
   "cell_type": "code",
   "execution_count": null,
   "metadata": {},
   "outputs": [],
   "source": [
    "print('Enter your group name')\n",
    "name = input()\n",
    "if name != 'A2':\n",
    "    raise ValueError('Not the name I was waiting for!')"
   ]
  },
  {
   "cell_type": "markdown",
   "metadata": {
    "slideshow": {
     "slide_type": "slide"
    }
   },
   "source": [
    "The keyword `finally` specify something that will always be executed no matter what"
   ]
  },
  {
   "cell_type": "code",
   "execution_count": null,
   "metadata": {},
   "outputs": [],
   "source": [
    "cake = 'yummy'\n",
    "try:\n",
    "    print(cake)\n",
    "except NameError :\n",
    "    print( 'name error catched' )\n",
    "    pass\n",
    "except ValueError :\n",
    "    print('value error catched')\n",
    "    pass\n",
    "finally:\n",
    "    print( 'goodbye!' )"
   ]
  },
  {
   "cell_type": "markdown",
   "metadata": {
    "slideshow": {
     "slide_type": "slide"
    }
   },
   "source": [
    "# Basic Role Playing Game (5) : fine version\n",
    "* Objective: construct a textual role playing game. The game is only text with choices, conditions to verify the choices and player status.\n",
    "\n",
    "## Rules\n",
    "* Player advance from a room to another by textually selecting one of the rooms. \n",
    "* Player starts with 200 hp (health points)\n",
    "* A bad decision cost the player to lose 25 hp.\n",
    "* For each actions, display it from a list of Strings\n",
    "* Represent user infos as a dictionary\n",
    "* Use functions to remove code duplicates and reduce the line numbers\n",
    "* **Add status and health modification function**\n",
    "* **Access events informations from a json file**\n",
    "* **Use exceptions to handle input values**\n",
    "* **Insert the past choices into a log file** at the end of the game"
   ]
  },
  {
   "cell_type": "code",
   "execution_count": null,
   "metadata": {
    "slideshow": {
     "slide_type": "slide"
    }
   },
   "outputs": [],
   "source": [
    "def writeDictIntoAFile(filePath, content):\n",
    "    \"\"\" writes a dict into a file. Need the filepath and the content as arguments.\"\"\"\n",
    "    with open(filePath, 'w') as myFile:\n",
    "        json.dump(content, myFile)\n",
    "\n",
    "eventsInitial = { \n",
    "    'first': {\n",
    "        'message': 'Game Over! Try again '\n",
    "    },\n",
    "    'second': {\n",
    "        'message': '''Upon opening the door, you can see a huge fest with exquisite meals everywhere. \n",
    "                   Will you eat it?''', \n",
    "        'paths': {\n",
    "            'yes': { 'message': 'You ate poison and lost 20 hp', 'hploss': 20},\n",
    "            'no': { 'message': 'You are still hungry and lose a bit of hp from hunger', 'hploss': 10}\n",
    "        }}\n",
    "}\n",
    "writeDictIntoAFile('events.json', eventsInitial) # creates the json file (you can do this manually if you work using a local python)"
   ]
  },
  {
   "cell_type": "code",
   "execution_count": null,
   "metadata": {
    "slideshow": {
     "slide_type": "slide"
    }
   },
   "outputs": [],
   "source": [
    "# Example with dict  and  ba sic functions and health management\n",
    "# Placeholders for you to insert requested code\n",
    "player = dict()\n",
    "print(\"Hello Player One, what's your name?\")\n",
    "player['name'] = input()\n",
    "player['health'] = 200\n",
    "print(\"Welcome\", player['name'])\n",
    "\n",
    "\n",
    "def retrieveEventsFromJson(jsonPath):\n",
    "    \"\"\" \n",
    "    This function reads an external json file containing the events infos and returns a dictionary.\n",
    "    \"\"\"\n",
    "    eventsFile = open(jsonPath, 'r') # open the file in 'r' read mode\n",
    "    eventsDict = json.load(eventsFile) # load the file content into a dict\n",
    "    eventsFile.close() # do not forget to close the files\n",
    "    return eventsDict \n",
    "     \n",
    "def writePastChoices( past ):\n",
    "    \"\"\" function that write the past choices to a file .txt \"\"\"\n",
    "    pastFile = open('pastChoices.txt', 'a') # we append the choices\n",
    "    pastFile.write('\\n=======\\n======\\n\\n') # append some markers to differenciates the runs\n",
    "    for p in past: # we iterate over the choices to append them\n",
    "        pastFile.write(p + '\\n') # '\\n' means new line\n",
    "    pastFile.close()\n",
    "\n",
    "def removeHealth(amount):\n",
    "    ''' Remove some health from the player. And check if he died. '''\n",
    "    player['health'] -= amount\n",
    "    if player['health'] <= 0:\n",
    "        return False\n",
    "    else:\n",
    "        return True\n",
    "    \n",
    "    \n",
    "    \n",
    "pastChoices = [] \n",
    "events = retrieveEventsFromJson('events.json') # we use the function to get events dict from the json file\n",
    "    \n",
    "    \n",
    "\n",
    "def askAction(event, choices):\n",
    "    '''\n",
    "    Ask an action from the user. Stay alive while the action is not recognized.\n",
    "    '''\n",
    "    choice = ''\n",
    "    while choice not in choices:\n",
    "        print('player status', player)\n",
    "        choice = input()\n",
    "        try: # using exception instead of list checking\n",
    "            print(event[choice]['message']) # if this does not work -> exception\n",
    "            if 'hploss' in event[choice]: \n",
    "                alive = removeHealth(event[choice]['hploss'])\n",
    "                if not alive : break\n",
    "            pastChoices.append(choice)\n",
    "            if('paths' in event[choice]):\n",
    "                askAction(event[choice]['paths'], list(event[choice]['paths'].keys()) )\n",
    "        except:\n",
    "            print('WRONG : Possible choices', choices )\n",
    "    return True\n",
    "            \n",
    "print('''Your are in a tiny room. Humidity fills the air but your stomach reminds you that you are very hungry.\n",
    "        You are in front of two doors. Behind the first one you can hear muffled voices. \n",
    "        Behind the second one you can smell something intriguing.''')\n",
    "print('Which door do you choose? Type', list(events.keys())[0], 'for the first room and', list(events.keys())[1], \n",
    "              'for the second room.')\n",
    "\n",
    "askAction(events, list(events.keys()) )\n",
    "    \n",
    "print('Here are your remaining stats', player)\n",
    "writePastChoices( pastChoices ) # we use the function to write the pastChoices into a file."
   ]
  },
  {
   "cell_type": "code",
   "execution_count": null,
   "metadata": {},
   "outputs": [],
   "source": []
  }
 ],
 "metadata": {
  "celltoolbar": "Diaporama",
  "kernelspec": {
   "display_name": "Python 3",
   "language": "python",
   "name": "python3"
  },
  "language_info": {
   "codemirror_mode": {
    "name": "ipython",
    "version": 3
   },
   "file_extension": ".py",
   "mimetype": "text/x-python",
   "name": "python",
   "nbconvert_exporter": "python",
   "pygments_lexer": "ipython3",
   "version": "3.5.2"
  },
  "livereveal": {
   "autolaunch": true,
   "scroll": true,
   "transition": "none"
  }
 },
 "nbformat": 4,
 "nbformat_minor": 2
}
