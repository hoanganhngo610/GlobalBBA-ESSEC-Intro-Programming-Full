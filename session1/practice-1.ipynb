{
 "cells": [
  {
   "cell_type": "markdown",
   "id": "9cc9b3fb",
   "metadata": {},
   "source": [
    "# Essec business school\n",
    "## introduction to programming\n",
    "### course 1 \n",
    "#### exercise - part 1 \n",
    "\n",
    "this part is used for the sexercises of the \"EASY\" level for session 1 - introduction to programing"
   ]
  },
  {
   "cell_type": "code",
   "execution_count": 1,
   "id": "00e3c8d2",
   "metadata": {},
   "outputs": [
    {
     "name": "stdout",
     "output_type": "stream",
     "text": [
      "hello, world!\n"
     ]
    }
   ],
   "source": [
    "print(\"hello, world!\")"
   ]
  },
  {
   "cell_type": "markdown",
   "id": "d63f3599",
   "metadata": {},
   "source": [
    "##### exercise 1\n",
    "ask the name of the user, then take the input and greet with the following SENTENCE:\n",
    "\n",
    "\"hello, {username}!\". ex: \"hello, nhan sam!\"\n",
    "\n",
    "then, request the user to input a number (type float). find the nearest integer with that number, using the function \"INT()\" in python. then, print both the number and the nearest integer. "
   ]
  },
  {
   "cell_type": "code",
   "execution_count": 12,
   "id": "5f75f0dc",
   "metadata": {},
   "outputs": [
    {
     "name": "stdout",
     "output_type": "stream",
     "text": [
      "Hello, what's your name?\n",
      "Nice to meet you, hoang anh, what is your favorite number?\n",
      "Your favorite number is 3.75 and its integer part is 3.\n"
     ]
    }
   ],
   "source": [
    "print (\"Hello, what's your name?\")\n",
    "username = input()\n",
    "print(\"Nice to meet you, \" + username + \", what is your favorite number?\")\n",
    "favorite_number = float(input())\n",
    "print(\"Your favorite number is \" + str(favorite_number) + \" and its integer part is \" + str(int(favorite_number)) + \".\")"
   ]
  },
  {
   "cell_type": "code",
   "execution_count": null,
   "id": "2a9c1351",
   "metadata": {},
   "outputs": [
    {
     "ename": "ValueError",
     "evalue": "could not convert string to float: '3,5'",
     "output_type": "error",
     "traceback": [
      "\u001b[31m---------------------------------------------------------------------------\u001b[39m",
      "\u001b[31mValueError\u001b[39m                                Traceback (most recent call last)",
      "\u001b[36mCell\u001b[39m\u001b[36m \u001b[39m\u001b[32mIn[10]\u001b[39m\u001b[32m, line 1\u001b[39m\n\u001b[32m----> \u001b[39m\u001b[32m1\u001b[39m \u001b[38;5;28;43mfloat\u001b[39;49m\u001b[43m(\u001b[49m\u001b[33;43m\"\u001b[39;49m\u001b[33;43m3,5\u001b[39;49m\u001b[33;43m\"\u001b[39;49m\u001b[43m)\u001b[49m\n",
      "\u001b[31mValueError\u001b[39m: could not convert string to float: '3,5'"
     ]
    }
   ],
   "source": [
    "# note that the code above cannot handle wrong input \n",
    "# numbers like \"3,5\" or \"nhan sam\"\n",
    "float(\"3,5\")"
   ]
  },
  {
   "cell_type": "markdown",
   "id": "4a99d5b5",
   "metadata": {},
   "source": [
    "##### exercise 2: password check\n",
    "take the first input of the user as password.\n",
    "\n",
    "then,request the user to re-type that password. if the two matches, return \"your password is validated, your password is {password}.\". else, return a warning that they don't match."
   ]
  },
  {
   "cell_type": "code",
   "execution_count": 17,
   "id": "4be4725a",
   "metadata": {},
   "outputs": [
    {
     "name": "stdout",
     "output_type": "stream",
     "text": [
      "What's your zalo password?\n",
      "Please enter your password again:\n",
      "The password you re-entered does not match.\n"
     ]
    }
   ],
   "source": [
    "print(\"What's your zalo password?\")\n",
    "zalo_password = input()\n",
    "print(\"Please enter your password again:\")\n",
    "zalo_password_rentered = input()\n",
    "if zalo_password == zalo_password_rentered:\n",
    "    print(\"your password is validated, your password is \" + zalo_password + \".\")\n",
    "else:\n",
    "    print(\"The password you re-entered does not match.\")"
   ]
  },
  {
   "cell_type": "markdown",
   "id": "54041b74",
   "metadata": {},
   "source": [
    "##### exercise 3: hôm nay ăn gì?\n",
    "\n",
    "get the user's name as input. then, follow-up with at least 3 questions to obtain the answer to the QUESTION: what should we eat TODAY?\n",
    "\n",
    "for example:\n",
    "- sweet or savory\n",
    "- western or EASTERN?\n",
    "- which country?"
   ]
  },
  {
   "cell_type": "code",
   "execution_count": null,
   "id": "a0694670",
   "metadata": {},
   "outputs": [
    {
     "name": "stdout",
     "output_type": "stream",
     "text": [
      "What's your name?\n",
      "Nice to meet you, Hoang Anh what do you wanna eat today? Would you like something sweet or savory?\n",
      "I am craving some savory food, let's go get sushi instead.\n"
     ]
    }
   ],
   "source": [
    "print(\"What's your name?\")\n",
    "name = input()\n",
    "print(\"Nice to meet you, \" + name + \" what do you wanna eat today? Would you like something sweet or savory?\")\n",
    "food_type = input()\n",
    "if food_type().lower() == \"savory\":\n",
    "    print(\"What kinda savory food would you like to eat, ethiopian or asian:?\")\n",
    "    country_type = input()\n",
    "    if country_type == \"asian\":\n",
    "        print(\"Would you like to eat some japanese or korean food?\")\n",
    "        asian_type = input()\n",
    "        if asian_type == \"japanese\":\n",
    "            print(\"Let's go get some sushi then!\")\n",
    "        else:\n",
    "            print(\"I just had Korean food yesterday, can we go get sushi instead?\")\n",
    "    else:\n",
    "        print(\"I don't know how to eat ethiopian food, can we go get sushi intead?\")\n",
    "else:\n",
    "    print(\"I am craving some savory food, let's go get sushi instead.\")\n"
   ]
  },
  {
   "cell_type": "code",
   "execution_count": 21,
   "id": "dd136f49",
   "metadata": {},
   "outputs": [
    {
     "data": {
      "text/plain": [
       "'hoanganh'"
      ]
     },
     "execution_count": 21,
     "metadata": {},
     "output_type": "execute_result"
    }
   ],
   "source": [
    "\"HOANGANH\".lower()"
   ]
  },
  {
   "cell_type": "code",
   "execution_count": 22,
   "id": "6c0c16b0",
   "metadata": {},
   "outputs": [
    {
     "data": {
      "text/plain": [
       "'NHAN SAM'"
      ]
     },
     "execution_count": 22,
     "metadata": {},
     "output_type": "execute_result"
    }
   ],
   "source": [
    "\"nhan sam\".upper()"
   ]
  },
  {
   "cell_type": "markdown",
   "id": "5536d715",
   "metadata": {},
   "source": []
  }
 ],
 "metadata": {
  "kernelspec": {
   "display_name": "Python 3",
   "language": "python",
   "name": "python3"
  },
  "language_info": {
   "codemirror_mode": {
    "name": "ipython",
    "version": 3
   },
   "file_extension": ".py",
   "mimetype": "text/x-python",
   "name": "python",
   "nbconvert_exporter": "python",
   "pygments_lexer": "ipython3",
   "version": "3.13.3"
  }
 },
 "nbformat": 4,
 "nbformat_minor": 5
}
