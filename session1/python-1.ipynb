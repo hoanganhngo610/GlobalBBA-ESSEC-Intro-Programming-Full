{
 "cells": [
  {
   "cell_type": "markdown",
   "metadata": {
    "slideshow": {
     "slide_type": "slide"
    }
   },
   "source": [
    "\n",
    "# Introduction to Programming – Python\n",
    "----\n",
    "\n",
    "## Course 1 – first steps\n",
    "\n",
    "### ESSEC Business School\n",
    "\n",
    "[gael.guibon@gmail.com](gael.guibon@gmail.com)\n",
    "\n",
    "[gael.guibon@telecom-paris.fr](gael.guibon@telecom-paris.fr)\n",
    "\n",
    "Original content inspired by [Clement Plancq's IM courses](https://github.com/clement-plancq/python-im)\n",
    "\n",
    "Licenced under Affero GNU3"
   ]
  },
  {
   "cell_type": "markdown",
   "metadata": {
    "slideshow": {
     "slide_type": "slide"
    }
   },
   "source": [
    "# A program\n",
    "---\n",
    "* A program is a **set of instructions**\n",
    "    * Orders for the machine to execute later on\n",
    "* A program will be compilated for the machine to understand it\n",
    "* A compilated program is only binary code\n"
   ]
  },
  {
   "cell_type": "markdown",
   "metadata": {
    "slideshow": {
     "slide_type": "subslide"
    }
   },
   "source": [
    "# Programming languages\n",
    "---\n",
    "* Languages are divided by level :\n",
    "    1. High level: **Python**, Java, etc.\n",
    "    2. Low-Level: COBOL, FORTRAN, C, etc.\n",
    "    3. Assembly: some CPUs\n",
    "    4. Machine code\n",
    "    5. Micro-code: CPUs\n",
    "    "
   ]
  },
  {
   "cell_type": "markdown",
   "metadata": {
    "slideshow": {
     "slide_type": "subslide"
    }
   },
   "source": [
    "# What you need\n",
    "----\n",
    "* Logic:\n",
    "    * Propositional logic\n",
    "    * First-order logic\n",
    "    * Predicate logic\n",
    "* Rigor:\n",
    "    * Verify everything, every character, every content\n",
    "    * Order is important!\n",
    "* Patience:\n",
    "    * Verify/understand error logs\n",
    "    * Proceed step by step\n"
   ]
  },
  {
   "cell_type": "markdown",
   "metadata": {
    "slideshow": {
     "slide_type": "subslide"
    }
   },
   "source": [
    "# What you will learn\n",
    "----\n",
    "1. To **understand** and use basic types\n",
    "2. To **implement** simple logic\n",
    "3. To **write** simple code"
   ]
  },
  {
   "cell_type": "markdown",
   "metadata": {
    "slideshow": {
     "slide_type": "slide"
    }
   },
   "source": [
    "# Python\n",
    "Python is a high level programming language under free licence. It was created by Guido Van Rossum but since 2001 the development is lead by the [Python Software Foundation](http://www.python.org/psf/) (Guido was the *\"benevolent dictator for life\"* until july 2018).\n",
    "\n",
    "Language evolutions are detailed in Python Enhancement Proposals (PEP).\n",
    "\n",
    "## Python functions\n",
    "To know what does each native Python functions, you need to access the documentation.\n",
    "* type : `help(print)`   \n",
    "<small>`q` to exit the doc</small>\n",
    "* in your browser : [https://docs.python.org/3/library/functions.html](https://docs.python.org/3/library/functions.html)\n",
    "* or : [DevDocs](http://devdocs.io/)"
   ]
  },
  {
   "cell_type": "markdown",
   "metadata": {
    "slideshow": {
     "slide_type": "slide"
    }
   },
   "source": [
    "Famous PEPs:\n",
    "* [PEP 20](https://www.python.org/dev/peps/pep-0020/) \"Zen of Python\"<sup>1</sup> ( `import this` in python console)\n",
    "* [PEP 8](https://www.python.org/dev/peps/pep-0008/) \"Style Guide for Python Code\"\n",
    "\n",
    "<sup>1</sup> \"There should be one-- and preferably only one --obvious way to do it.\""
   ]
  },
  {
   "cell_type": "code",
   "execution_count": 1,
   "metadata": {},
   "outputs": [
    {
     "name": "stdout",
     "output_type": "stream",
     "text": [
      "The Zen of Python, by Tim Peters\n",
      "\n",
      "Beautiful is better than ugly.\n",
      "Explicit is better than implicit.\n",
      "Simple is better than complex.\n",
      "Complex is better than complicated.\n",
      "Flat is better than nested.\n",
      "Sparse is better than dense.\n",
      "Readability counts.\n",
      "Special cases aren't special enough to break the rules.\n",
      "Although practicality beats purity.\n",
      "Errors should never pass silently.\n",
      "Unless explicitly silenced.\n",
      "In the face of ambiguity, refuse the temptation to guess.\n",
      "There should be one-- and preferably only one --obvious way to do it.\n",
      "Although that way may not be obvious at first unless you're Dutch.\n",
      "Now is better than never.\n",
      "Although never is often better than *right* now.\n",
      "If the implementation is hard to explain, it's a bad idea.\n",
      "If the implementation is easy to explain, it may be a good idea.\n",
      "Namespaces are one honking great idea -- let's do more of those!\n"
     ]
    }
   ],
   "source": [
    "# show the code guidelines for Python\n",
    "# oh this below will show you the zen of python\n",
    "import this"
   ]
  },
  {
   "cell_type": "markdown",
   "metadata": {
    "slideshow": {
     "slide_type": "slide"
    }
   },
   "source": [
    "# A basic instruction\n",
    "\n",
    "We can print anything by using the `print()` function.\n",
    "\n",
    "```python\n",
    "print( SOMETHING )\n",
    "```\n",
    "\n"
   ]
  },
  {
   "cell_type": "code",
   "execution_count": 12,
   "metadata": {},
   "outputs": [
    {
     "name": "stdout",
     "output_type": "stream",
     "text": [
      "Help on built-in function max in module builtins:\n",
      "\n",
      "max(...)\n",
      "    max(iterable, *[, default=obj, key=func]) -> value\n",
      "    max(arg1, arg2, *args, *[, key=func]) -> value\n",
      "    \n",
      "    With a single iterable argument, return its biggest item. The\n",
      "    default keyword-only argument specifies an object to return if\n",
      "    the provided iterable is empty.\n",
      "    With two or more arguments, return the largest argument.\n",
      "\n"
     ]
    },
    {
     "data": {
      "text/plain": [
       "2"
      ]
     },
     "execution_count": 12,
     "metadata": {},
     "output_type": "execute_result"
    }
   ],
   "source": [
    "# what does the print() function ?\n",
    "help(max)\n",
    "max([0, 2])"
   ]
  },
  {
   "cell_type": "code",
   "execution_count": 10,
   "metadata": {},
   "outputs": [
    {
     "name": "stdout",
     "output_type": "stream",
     "text": [
      "this is a String (a String a characters)\n"
     ]
    }
   ],
   "source": [
    "print('this is a String (a String a characters)')"
   ]
  },
  {
   "cell_type": "markdown",
   "metadata": {},
   "source": [
    "* Principle: 1 line = 1 instruction\n",
    "* Everything after `#` is a comment\n",
    "```python\n",
    "# this is a comment !!!\n",
    "```"
   ]
  },
  {
   "cell_type": "code",
   "execution_count": 15,
   "metadata": {},
   "outputs": [
    {
     "name": "stdout",
     "output_type": "stream",
     "text": [
      "hey\n",
      "you\n",
      "there\n"
     ]
    }
   ],
   "source": [
    "print('hey') #first instruction\n",
    "print('you') #second instruction (order is important)\n",
    "print('there') # econd instruction print('uriirfuzeoi')"
   ]
  },
  {
   "cell_type": "markdown",
   "metadata": {
    "slideshow": {
     "slide_type": "slide"
    }
   },
   "source": [
    "# Variables\n",
    "* Variables are data containers.\n",
    "* `=` is used to put value into a variable\n",
    "* Variable's content can be put into another variable\n",
    "```python\n",
    "variable1 = variable2\n",
    "```"
   ]
  },
  {
   "cell_type": "code",
   "execution_count": 16,
   "metadata": {},
   "outputs": [
    {
     "name": "stdout",
     "output_type": "stream",
     "text": [
      "Anna SGAR\n"
     ]
    }
   ],
   "source": [
    "name = 'Anna SGAR'\n",
    "print(name)"
   ]
  },
  {
   "cell_type": "code",
   "execution_count": 19,
   "metadata": {},
   "outputs": [
    {
     "name": "stdout",
     "output_type": "stream",
     "text": [
      "ZAK\n",
      "Aleksander\n",
      "Guibon Aleksander\n"
     ]
    }
   ],
   "source": [
    "# variables values\n",
    "firstname = 'ZAK'\n",
    "lastname = 'Aleksander'\n",
    "print(lastname)\n",
    "print(firstname)\n",
    "lastname = 'Guibon'\n",
    "print(lastname, firstname) # multiple arguments can be passed into print function. \n",
    "# They will automatically be separated by a space."
   ]
  },
  {
   "cell_type": "markdown",
   "metadata": {
    "slideshow": {
     "slide_type": "slide"
    }
   },
   "source": [
    "# Variables names\n",
    "Variables can have any names **EXCEPT the already declared keywords**.\n",
    "To show all the python keywords do:"
   ]
  },
  {
   "cell_type": "code",
   "execution_count": 20,
   "metadata": {},
   "outputs": [
    {
     "name": "stdout",
     "output_type": "stream",
     "text": [
      "['False', 'None', 'True', 'and', 'as', 'assert', 'break', 'class', 'continue', 'def', 'del', 'elif', 'else', 'except', 'finally', 'for', 'from', 'global', 'if', 'import', 'in', 'is', 'lambda', 'nonlocal', 'not', 'or', 'pass', 'raise', 'return', 'try', 'while', 'with', 'yield']\n"
     ]
    }
   ],
   "source": [
    "import keyword # import libraries. this one is a standard library\n",
    "print(keyword.kwlist) "
   ]
  },
  {
   "cell_type": "markdown",
   "metadata": {
    "slideshow": {
     "slide_type": "slide"
    }
   },
   "source": [
    "* Variable names are alphanumeric values (upper or lowercase), or/and numbers, or/and underscores. Nothing more.\n",
    "* Variable names need to be clear and understandable. For instance:\n",
    "```python\n",
    "birthdayDate = '01012005' # good\n",
    "date = '01012005' # bad\n",
    "xyhzi = '010120005' # very bad\n",
    "```\n",
    "* It is recommended to follow the official Python advices [PEP 8](https://www.python.org/dev/peps/pep-0008/).\n",
    "\n"
   ]
  },
  {
   "cell_type": "code",
   "execution_count": 21,
   "metadata": {},
   "outputs": [
    {
     "ename": "SyntaxError",
     "evalue": "can't assign to operator (<ipython-input-21-8cbbbccc414d>, line 2)",
     "output_type": "error",
     "traceback": [
      "\u001b[0;36m  File \u001b[0;32m\"<ipython-input-21-8cbbbccc414d>\"\u001b[0;36m, line \u001b[0;32m2\u001b[0m\n\u001b[0;31m    my-super-username = 'Robert' # known as KebabCase\u001b[0m\n\u001b[0m                                                     ^\u001b[0m\n\u001b[0;31mSyntaxError\u001b[0m\u001b[0;31m:\u001b[0m can't assign to operator\n"
     ]
    }
   ],
   "source": [
    "# Python does not accept this kind of variable name\n",
    "my-super-username = 'Robert' # known as KebabCase"
   ]
  },
  {
   "cell_type": "code",
   "execution_count": 22,
   "metadata": {},
   "outputs": [
    {
     "ename": "SyntaxError",
     "evalue": "invalid syntax (<ipython-input-22-8549279bb087>, line 1)",
     "output_type": "error",
     "traceback": [
      "\u001b[0;36m  File \u001b[0;32m\"<ipython-input-22-8549279bb087>\"\u001b[0;36m, line \u001b[0;32m1\u001b[0m\n\u001b[0;31m    1_does_not_work = 'bad name'\u001b[0m\n\u001b[0m                  ^\u001b[0m\n\u001b[0;31mSyntaxError\u001b[0m\u001b[0;31m:\u001b[0m invalid syntax\n"
     ]
    }
   ],
   "source": [
    "1_does_not_work = 'bad name'"
   ]
  },
  {
   "cell_type": "code",
   "execution_count": null,
   "metadata": {},
   "outputs": [],
   "source": [
    "student_name_for_gbba_group_a = 'Monica'\n",
    "\n",
    "# Use this instead\n",
    "mySuperUsername = 'Robert' # known as CamelCase\n",
    "# or this\n",
    "my_super_username = 'Robert' # known as SnakeCase\n",
    "# print them to see that it works"
   ]
  },
  {
   "cell_type": "markdown",
   "metadata": {
    "slideshow": {
     "slide_type": "slide"
    }
   },
   "source": [
    "# Arithmetic Operators\n",
    "\n",
    "`+` addition  "
   ]
  },
  {
   "cell_type": "code",
   "execution_count": 27,
   "metadata": {
    "slideshow": {
     "slide_type": "-"
    }
   },
   "outputs": [
    {
     "name": "stdout",
     "output_type": "stream",
     "text": [
      "7\n"
     ]
    }
   ],
   "source": [
    "sum_result = 2 + 5\n",
    "print(sum_result)"
   ]
  },
  {
   "cell_type": "markdown",
   "metadata": {
    "slideshow": {
     "slide_type": "-"
    }
   },
   "source": [
    "`-` substraction"
   ]
  },
  {
   "cell_type": "code",
   "execution_count": 28,
   "metadata": {
    "slideshow": {
     "slide_type": "-"
    }
   },
   "outputs": [
    {
     "data": {
      "text/plain": [
       "1"
      ]
     },
     "execution_count": 28,
     "metadata": {},
     "output_type": "execute_result"
    }
   ],
   "source": [
    "3 - 2"
   ]
  },
  {
   "cell_type": "markdown",
   "metadata": {
    "slideshow": {
     "slide_type": "subslide"
    }
   },
   "source": [
    "`*` multiplication"
   ]
  },
  {
   "cell_type": "code",
   "execution_count": 30,
   "metadata": {
    "slideshow": {
     "slide_type": "-"
    }
   },
   "outputs": [
    {
     "data": {
      "text/plain": [
       "6"
      ]
     },
     "execution_count": 30,
     "metadata": {},
     "output_type": "execute_result"
    }
   ],
   "source": [
    "2 * 3"
   ]
  },
  {
   "cell_type": "markdown",
   "metadata": {
    "slideshow": {
     "slide_type": "-"
    }
   },
   "source": [
    "`/` division"
   ]
  },
  {
   "cell_type": "code",
   "execution_count": 29,
   "metadata": {
    "slideshow": {
     "slide_type": "-"
    }
   },
   "outputs": [
    {
     "data": {
      "text/plain": [
       "6.0"
      ]
     },
     "execution_count": 29,
     "metadata": {},
     "output_type": "execute_result"
    }
   ],
   "source": [
    "36 / 6"
   ]
  },
  {
   "cell_type": "markdown",
   "metadata": {
    "slideshow": {
     "slide_type": "subslide"
    }
   },
   "source": [
    "`%` modulus (division remainder)"
   ]
  },
  {
   "cell_type": "code",
   "execution_count": 40,
   "metadata": {
    "slideshow": {
     "slide_type": "-"
    }
   },
   "outputs": [
    {
     "data": {
      "text/plain": [
       "4"
      ]
     },
     "execution_count": 40,
     "metadata": {},
     "output_type": "execute_result"
    }
   ],
   "source": [
    "36 % 8"
   ]
  },
  {
   "cell_type": "markdown",
   "metadata": {},
   "source": [
    "`//` Floor division (cut the result after the period)"
   ]
  },
  {
   "cell_type": "code",
   "execution_count": 36,
   "metadata": {},
   "outputs": [
    {
     "data": {
      "text/plain": [
       "1"
      ]
     },
     "execution_count": 36,
     "metadata": {},
     "output_type": "execute_result"
    }
   ],
   "source": [
    "3 // 2"
   ]
  },
  {
   "cell_type": "markdown",
   "metadata": {
    "slideshow": {
     "slide_type": "subslide"
    }
   },
   "source": [
    "`**` exponent"
   ]
  },
  {
   "cell_type": "code",
   "execution_count": 32,
   "metadata": {
    "scrolled": true,
    "slideshow": {
     "slide_type": "-"
    }
   },
   "outputs": [
    {
     "data": {
      "text/plain": [
       "400"
      ]
     },
     "execution_count": 32,
     "metadata": {},
     "output_type": "execute_result"
    }
   ],
   "source": [
    "10 ** 2 * 4"
   ]
  },
  {
   "cell_type": "markdown",
   "metadata": {
    "slideshow": {
     "slide_type": "-"
    }
   },
   "source": [
    "* Operation order and priorities are the same as in mathematics\n",
    "* You can use parenthesis to define priorities"
   ]
  },
  {
   "cell_type": "code",
   "execution_count": 31,
   "metadata": {
    "slideshow": {
     "slide_type": "-"
    }
   },
   "outputs": [
    {
     "data": {
      "text/plain": [
       "6.0"
      ]
     },
     "execution_count": 31,
     "metadata": {},
     "output_type": "execute_result"
    }
   ],
   "source": [
    "36 / (2*3)"
   ]
  },
  {
   "cell_type": "markdown",
   "metadata": {
    "slideshow": {
     "slide_type": "subslide"
    }
   },
   "source": [
    "* Of course, it works with variables"
   ]
  },
  {
   "cell_type": "code",
   "execution_count": 44,
   "metadata": {},
   "outputs": [
    {
     "data": {
      "text/plain": [
       "str"
      ]
     },
     "execution_count": 44,
     "metadata": {},
     "output_type": "execute_result"
    }
   ],
   "source": [
    "a = 3\n",
    "type(a)\n",
    "\n"
   ]
  },
  {
   "cell_type": "markdown",
   "metadata": {
    "slideshow": {
     "slide_type": "slide"
    }
   },
   "source": [
    "# Variable types\n",
    "* Data can have different forms, same goes for variables\n",
    "* Each variable has a **Type**\n",
    "* Here are the most commons types in Python:\n",
    "    * **String**: str() : string of characters (text)\n",
    "    * **Integer**: int() : integer numbers\n",
    "    * **Float**: float() : numbers with floating decimal points\n",
    "    * **Boolean**: bool() : True or False\n",
    "    * Long (*not in Python*)\n",
    "    * Char (*not in Python*)\n",
    "* Python is a strong dynamic typed language\n",
    "    * dynamic = variable type is determined by the interpretor (compilor)\n",
    "    * strong = no implicit conversion of types"
   ]
  },
  {
   "cell_type": "markdown",
   "metadata": {
    "slideshow": {
     "slide_type": "slide"
    }
   },
   "source": [
    "* Try this :"
   ]
  },
  {
   "cell_type": "code",
   "execution_count": 47,
   "metadata": {
    "slideshow": {
     "slide_type": "-"
    }
   },
   "outputs": [
    {
     "data": {
      "text/plain": [
       "'hello Hsin-Ying'"
      ]
     },
     "execution_count": 47,
     "metadata": {},
     "output_type": "execute_result"
    }
   ],
   "source": [
    "'hello' + ' ' + 'Hsin-Ying' "
   ]
  },
  {
   "cell_type": "markdown",
   "metadata": {},
   "source": [
    "It does not work as we try to concatenate a String (str) with an Integer (int).\n",
    "\n",
    "You can find the variable's type with `type()` function."
   ]
  },
  {
   "cell_type": "code",
   "execution_count": 48,
   "metadata": {},
   "outputs": [
    {
     "name": "stdout",
     "output_type": "stream",
     "text": [
      "<class 'str'>\n",
      "<class 'int'>\n",
      "<class 'bool'>\n",
      "<class 'float'>\n"
     ]
    }
   ],
   "source": [
    "print( type('hello world') )\n",
    "print( type(23) )\n",
    "print( type(False) )\n",
    "print( type(23.45) )"
   ]
  },
  {
   "cell_type": "markdown",
   "metadata": {
    "slideshow": {
     "slide_type": "slide"
    }
   },
   "source": [
    "## Type conversion\n",
    "* `str()`, `int()`, `float()` convert the passed argument as the desired type\n",
    "* `bool()` returns `True` if the argument is true, `False` otherwise."
   ]
  },
  {
   "cell_type": "code",
   "execution_count": 51,
   "metadata": {
    "slideshow": {
     "slide_type": "-"
    }
   },
   "outputs": [
    {
     "data": {
      "text/plain": [
       "3"
      ]
     },
     "execution_count": 51,
     "metadata": {},
     "output_type": "execute_result"
    }
   ],
   "source": [
    "int(3.14159265359) # transforms a float into an integer"
   ]
  },
  {
   "cell_type": "code",
   "execution_count": 52,
   "metadata": {
    "slideshow": {
     "slide_type": "-"
    }
   },
   "outputs": [
    {
     "data": {
      "text/plain": [
       "'Hello1'"
      ]
     },
     "execution_count": 52,
     "metadata": {},
     "output_type": "execute_result"
    }
   ],
   "source": [
    "\"Hello\" + str(1) # transforms an integer into a String and concatenate both Strings"
   ]
  },
  {
   "cell_type": "markdown",
   "metadata": {},
   "source": [
    "# Strings Operations\n",
    "* Concatenate Strings: `+`"
   ]
  },
  {
   "cell_type": "code",
   "execution_count": 53,
   "metadata": {
    "slideshow": {
     "slide_type": "-"
    }
   },
   "outputs": [
    {
     "data": {
      "text/plain": [
       "'Helloworld'"
      ]
     },
     "execution_count": 53,
     "metadata": {},
     "output_type": "execute_result"
    }
   ],
   "source": [
    "\"Hello\" + \"world\""
   ]
  },
  {
   "cell_type": "code",
   "execution_count": 54,
   "metadata": {
    "slideshow": {
     "slide_type": "-"
    }
   },
   "outputs": [
    {
     "data": {
      "text/plain": [
       "'Hello world'"
      ]
     },
     "execution_count": 54,
     "metadata": {},
     "output_type": "execute_result"
    }
   ],
   "source": [
    "\"Hello\" + \" \" + \"world\""
   ]
  },
  {
   "cell_type": "markdown",
   "metadata": {
    "slideshow": {
     "slide_type": "subslide"
    }
   },
   "source": [
    "* Strings can be surrounded by simple quotes `'hello'` or double quotes `\"hello\"`\n",
    "* If your work contains a simple quote use double quotes:\n",
    "```python\n",
    "negation = \"don't do that!\"\n",
    "```"
   ]
  },
  {
   "cell_type": "code",
   "execution_count": null,
   "metadata": {
    "slideshow": {
     "slide_type": "-"
    }
   },
   "outputs": [],
   "source": [
    "'it doesn't work'"
   ]
  },
  {
   "cell_type": "code",
   "execution_count": null,
   "metadata": {
    "slideshow": {
     "slide_type": "-"
    }
   },
   "outputs": [],
   "source": [
    "\"It doesn't work? Oh yes it does!\""
   ]
  },
  {
   "cell_type": "markdown",
   "metadata": {},
   "source": [
    "* You can always escape special characters with `\\` to indicate to not parse them"
   ]
  },
  {
   "cell_type": "code",
   "execution_count": null,
   "metadata": {},
   "outputs": [],
   "source": [
    "'It doesn\\'t work? Oh yes it does!'"
   ]
  },
  {
   "cell_type": "code",
   "execution_count": 55,
   "metadata": {},
   "outputs": [
    {
     "data": {
      "text/plain": [
       "' this is a multiline String\\nI can put a huge text between 3 simple or double quotes'"
      ]
     },
     "execution_count": 55,
     "metadata": {},
     "output_type": "execute_result"
    }
   ],
   "source": [
    "''' this is a multiline String\n",
    "I can put a huge text between '' ' \"\"\"\"\"\" 3 simple or double quotes'''"
   ]
  },
  {
   "cell_type": "code",
   "execution_count": 56,
   "metadata": {},
   "outputs": [
    {
     "data": {
      "text/plain": [
       "' Works with tripple double quotes'"
      ]
     },
     "execution_count": 56,
     "metadata": {},
     "output_type": "execute_result"
    }
   ],
   "source": [
    "\"\"\" Works with tripple double quotes\"\"\""
   ]
  },
  {
   "cell_type": "markdown",
   "metadata": {
    "slideshow": {
     "slide_type": "slide"
    }
   },
   "source": [
    "# Conditions\n",
    "\n",
    "```python\n",
    "if condition:\n",
    "    #begin of block\n",
    "    instruction1\n",
    "    instruction2\n",
    "    #end of block\n",
    "```\n",
    "\n",
    "**Indentations are important** in Python"
   ]
  },
  {
   "cell_type": "code",
   "execution_count": 70,
   "metadata": {},
   "outputs": [
    {
     "name": "stdout",
     "output_type": "stream",
     "text": [
      "Hello Iris\n"
     ]
    }
   ],
   "source": [
    "studentName = 'Iris'\n",
    "if studentName == 'Iris':\n",
    "    print('Hello', studentName)"
   ]
  },
  {
   "cell_type": "markdown",
   "metadata": {
    "slideshow": {
     "slide_type": "subslide"
    }
   },
   "source": [
    "## Comparison Operators\n",
    "`<`  lesser than  / `<=` equal or lesser than\n",
    "`>`  greater than  / `>=` equal or greater than  \n",
    "`==` equal  / `!=` not equal \n",
    "`is` identify as  / `is not` not identified as"
   ]
  },
  {
   "cell_type": "code",
   "execution_count": 75,
   "metadata": {
    "slideshow": {
     "slide_type": "-"
    }
   },
   "outputs": [
    {
     "name": "stdout",
     "output_type": "stream",
     "text": [
      "False\n",
      "False\n",
      "<class 'bool'>\n"
     ]
    }
   ],
   "source": [
    "x = 1\n",
    "print(x == 3)\n",
    "print( x == 4/5+293939)\n",
    "print( type(x < 30) )\n",
    "if x > 3:\n",
    "    print(\"x equals \", x, \"and is it greater than 4?\", x>3) "
   ]
  },
  {
   "cell_type": "code",
   "execution_count": 76,
   "metadata": {
    "slideshow": {
     "slide_type": "-"
    }
   },
   "outputs": [
    {
     "name": "stdout",
     "output_type": "stream",
     "text": [
      "nope x is not greater than 3\n"
     ]
    }
   ],
   "source": [
    "if x > 3:\n",
    "    print(\"yes x is greater than 3\")\n",
    "else:\n",
    "    print(\"nope x is not greater than 3\")"
   ]
  },
  {
   "cell_type": "markdown",
   "metadata": {
    "slideshow": {
     "slide_type": "subslide"
    }
   },
   "source": [
    "## Logical Operators\n",
    "``not`` logical NOT (reverse a condition: \"is he human?\" is the inverse of \"is he not human?\")\n",
    "``and`` logical AND (if and only if both conditions are True, returns True. Else, returns False.)\n",
    "``or``  disjonction (if one condition is True, returns True. Else, returns False.)  "
   ]
  },
  {
   "cell_type": "code",
   "execution_count": 78,
   "metadata": {
    "slideshow": {
     "slide_type": "-"
    }
   },
   "outputs": [
    {
     "name": "stdout",
     "output_type": "stream",
     "text": [
      "x is between 4 and 5\n"
     ]
    }
   ],
   "source": [
    "x = 4 \n",
    "if x > 3 and x <= 5:\n",
    "    print(\"x is between 4 and 5\" )   \n",
    "elif x > 5:\n",
    "    print(\"x is lesser than 5\")\n",
    "else:\n",
    "    print(\"x is neither\")"
   ]
  },
  {
   "cell_type": "markdown",
   "metadata": {
    "slideshow": {
     "slide_type": "subslide"
    }
   },
   "source": [
    "## Membership Operators\n",
    "`in` : verify is something is in a string or list\n",
    "`not in` : reverse version"
   ]
  },
  {
   "cell_type": "code",
   "execution_count": 79,
   "metadata": {},
   "outputs": [
    {
     "name": "stdout",
     "output_type": "stream",
     "text": [
      "True\n",
      "False\n",
      "True\n"
     ]
    }
   ],
   "source": [
    "sentence = 'I want to eat something!'\n",
    "print( 'eat' in sentence )\n",
    "print( 'eat' not in sentence )\n",
    "print( 'hello' not in sentence )\n",
    "if condition :\n",
    "    if condition:\n",
    "        if condition:"
   ]
  },
  {
   "cell_type": "markdown",
   "metadata": {
    "slideshow": {
     "slide_type": "slide"
    }
   },
   "source": [
    "# Basic Role Playing Game (1)\n",
    "* Objective: construct a textual role playing game. The game is only text with choices, conditions to verify the choices and player status.\n",
    "* To do so you need one additional function (see below)\n",
    "\n",
    "## Rules\n",
    "* Player advance from a room to another by textually selecting one of the rooms. \n",
    "* Player starts with 200 hp (health points)\n",
    "* A bad decision cost the player to lose 25 hp.\n",
    "\n",
    "## Input() Function\n",
    "* Retrieve the player input"
   ]
  },
  {
   "cell_type": "code",
   "execution_count": 81,
   "metadata": {},
   "outputs": [
    {
     "name": "stdout",
     "output_type": "stream",
     "text": [
      "Hello Player One, what's your name?\n",
      "Bianca-Lin\n",
      "Welcome Bianca-Lin\n",
      "Your are in a tiny room. Humidity fills the air but your stomach reminds you that you are very hungry.\n",
      "\n",
      "You are in front of two doors. Behind the first one you can hear muffled voices. \n",
      "\n",
      "Behind the second one you can smell something intriguing.\n",
      "Which door do you choose? Type \"first\" for the first room and \"second\" for the second room.\n",
      "second\n",
      "Upon opening the door, you can see a huge fest with exquisite meals everywhere.\n"
     ]
    }
   ],
   "source": [
    "# Examples\n",
    "# Get the input function and display a greeting message\n",
    "print(\"Hello Player One, what's your name?\")\n",
    "playerName = input()\n",
    "print(\"Welcome\", playerName)\n",
    "\n",
    "# Example room pattern\n",
    "print('''Your are in a tiny room. Humidity fills the air but your stomach reminds you that you are very hungry.\n",
    "\n",
    "You are in front of two doors. Behind the first one you can hear muffled voices. \n",
    "\n",
    "Behind the second one you can smell something intriguing.''')\n",
    "print('Which door do you choose? Type \"first\" for the first room and \"second\" for the second room.')\n",
    "selection = input()\n",
    "if selection == 'first':\n",
    "    print('A dragon is looking at you. You feel like he wants to devour your soul!!')\n",
    "    print('You have two options : close the door (type \"close\") or go for it (type \"go\")')\n",
    "    print('Which option do you choose?')\n",
    "    option = input()\n",
    "    if option == 'go'\n",
    "elif selection == 'second':\n",
    "    print('Upon opening the door, you can see a huge fest with exquisite meals everywhere.')\n",
    "    \n"
   ]
  },
  {
   "cell_type": "markdown",
   "metadata": {
    "slideshow": {
     "slide_type": "subslide"
    }
   },
   "source": [
    "* Complete the Role Playing Game skeleton by adding choices, player HP, etc. \n",
    "* *Tip: this kind of game is a decision tree of choices.*"
   ]
  },
  {
   "cell_type": "markdown",
   "metadata": {
    "slideshow": {
     "slide_type": "slide"
    }
   },
   "source": [
    "# Install local python environnement\n",
    "At home you may want to use Python locally. Here are the steps:\n",
    "1. Download the latest Python (Python3 not 2) from here: [https://www.python.org/downloads/](https://www.python.org/downloads/)\n",
    "2. Install it (if you are using Ubuntu 16.04 you already have Python installed)\n",
    "\n",
    "Start using it:\n",
    "- Open terminal(unix/mac) or CommandLine(windows), type `python` to start an interactive python environnement\n",
    "- Create a file named `my_super_program.py` and type `print('hello')` inside. Execute this file by typing `python3 my_super_program.py`."
   ]
  }
 ],
 "metadata": {
  "celltoolbar": "Diaporama",
  "kernelspec": {
   "display_name": "Python 3",
   "language": "python",
   "name": "python3"
  },
  "language_info": {
   "codemirror_mode": {
    "name": "ipython",
    "version": 3
   },
   "file_extension": ".py",
   "mimetype": "text/x-python",
   "name": "python",
   "nbconvert_exporter": "python",
   "pygments_lexer": "ipython3",
   "version": "3.5.2"
  },
  "livereveal": {
   "autolaunch": true,
   "scroll": true,
   "transition": "none"
  }
 },
 "nbformat": 4,
 "nbformat_minor": 2
}
