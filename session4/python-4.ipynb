{
 "cells": [
  {
   "cell_type": "markdown",
   "metadata": {
    "slideshow": {
     "slide_type": "slide"
    }
   },
   "source": [
    "# Introduction to Programming – Python\n",
    "----\n",
    "\n",
    "## Course 4 – Exercices and functions\n",
    "\n",
    "### ESSEC Business School\n",
    "\n",
    "[gael.guibon@gmail.com](gael.guibon@gmail.com)\n",
    "\n",
    "[gael.guibon@telecom-paris.fr](gael.guibon@telecom-paris.fr)\n",
    "\n",
    "Original content, some parts inspired by [Clement Plancq's IM courses](https://github.com/clement-plancq/python-im)\n",
    "\n",
    "Licenced under Affero GNU3"
   ]
  },
  {
   "cell_type": "markdown",
   "metadata": {
    "slideshow": {
     "slide_type": "slide"
    }
   },
   "source": [
    "# Summary\n",
    "- **instructions** : `print()`\n",
    "- **basic operators** : logic (`and or`), math (`+ = - /`), membership (`in` `not in`)\n",
    "- **variables** : `name = city` `city = 'Cergy'` \n",
    "- **types concepts and basics** and conversion : `type()` `str()` `bool()` `int()` `float()`\n",
    "- **conditions and nested conditions** : indentations !\n",
    "- **lists and lists functions** : `list()`, `myList = ['hello', 'world']`, `myList.append()`, `len(myList)` etc.\n",
    "- **loops** : while `while conditionIsTrue:` and for `for element in elementList:`, `break`, `continue`\n",
    "- **dictionaries** : `dict()`, `{key:value}`, nested dict `{key: {key:value} }`, `list(d.keys())`, `for k,v in d.items()`\n",
    "- Mini textual game"
   ]
  },
  {
   "cell_type": "code",
   "execution_count": null,
   "metadata": {
    "slideshow": {
     "slide_type": "slide"
    }
   },
   "outputs": [],
   "source": [
    "# example\n",
    "user = {\n",
    "    'name': 'john', # str()\n",
    "    'age': 19, # int()\n",
    "    'money': 24.56, # float()\n",
    "    'job': 'student', # str()\n",
    "    'friends': ['jack', 'paul'], # list() of two str()\n",
    "    'stats': {\n",
    "        'social': 'friendly', # str()\n",
    "        'seriousness': 'bad', # str()\n",
    "        'formerEmployeee': False # bool()\n",
    "    } # dict()\n",
    "} # dict()\n",
    "\n",
    "print(user)"
   ]
  },
  {
   "cell_type": "markdown",
   "metadata": {
    "slideshow": {
     "slide_type": "slide"
    }
   },
   "source": [
    "# Nested Dictionaries : exercices\n",
    "Create a dictionary that represent some cat physical attributes (always print your changes):\n",
    "- Physical attributes\n",
    "    - Is it an animal?\n",
    "    - How many lives does it have?\n",
    "    - How many legs?\n",
    "    - What is its maximum age?\n",
    "- Behavior attributes\n",
    "    - Does it bites?\n",
    "    - What kind of sound does it makes?\n",
    "    - Level of agressiveness: low, medium or high\n",
    "    - Does it barks?\n",
    "    - Does it meow?\n",
    "    - Is it a wild animal?"
   ]
  },
  {
   "cell_type": "code",
   "execution_count": null,
   "metadata": {},
   "outputs": [],
   "source": [
    "# create the cat dictionary here\n",
    "cat = {\n",
    "    'physical': {\n",
    "        'animal': True,\n",
    "        'lives': 9,\n",
    "        'legs': 4,\n",
    "        'maxAge': 15\n",
    "    },\n",
    "    'behavior':{\n",
    "        'bites': False,\n",
    "        'sound': 'meow',\n",
    "        'agressiveness': 'low'\n",
    "    }\n",
    "}\n",
    "print(cat)\n",
    "cat['behavior']['barks'] = False\n",
    "print(cat)\n",
    "cat['behavior']['isWild'] = True"
   ]
  },
  {
   "cell_type": "markdown",
   "metadata": {
    "slideshow": {
     "slide_type": "slide"
    }
   },
   "source": [
    "Print the number of lives of this cat:"
   ]
  },
  {
   "cell_type": "code",
   "execution_count": null,
   "metadata": {},
   "outputs": [],
   "source": [
    "lives = cat['physical']['lives']\n",
    "print(lives)"
   ]
  },
  {
   "cell_type": "markdown",
   "metadata": {},
   "source": [
    "Print the number of attributes the cat possess:"
   ]
  },
  {
   "cell_type": "code",
   "execution_count": null,
   "metadata": {},
   "outputs": [],
   "source": [
    "globalAttributes = len(cat.keys())\n",
    "nestedAttributes = len(cat['physical'].keys()) + len(cat['behavior'].keys())\n",
    "print('the cat possess', globalAttributes, 'global attributes and', nestedAttributes, 'nested attributes')"
   ]
  },
  {
   "cell_type": "markdown",
   "metadata": {
    "slideshow": {
     "slide_type": "slide"
    }
   },
   "source": [
    "Create another dictionary representing some dog attributes:\n",
    "- Physical attributes\n",
    "    - Is it an animal?\n",
    "    - How many lives does it have?\n",
    "    - How many legs?\n",
    "    - What is its maximum age?\n",
    "- Behavior attributes\n",
    "    - Does it bites?\n",
    "    - What kind of sound does it makes?\n",
    "    - Level of agressiveness: low, medium or high "
   ]
  },
  {
   "cell_type": "code",
   "execution_count": null,
   "metadata": {},
   "outputs": [],
   "source": [
    "dog = {\n",
    "    'physical': {\n",
    "        'animal': True,\n",
    "        'lives': 1,\n",
    "        'legs': 4,\n",
    "        'maxAge': 11\n",
    "    },\n",
    "    'behavior': {\n",
    "        'bites': True,\n",
    "        'sound': 'bark',\n",
    "        'aggressiveness': 'medium'\n",
    "    }\n",
    "}\n",
    "print( dog )"
   ]
  },
  {
   "cell_type": "markdown",
   "metadata": {
    "slideshow": {
     "slide_type": "slide"
    }
   },
   "source": [
    "Remove the *'animal'* attribute from both the cat and dog dictionaries:"
   ]
  },
  {
   "cell_type": "code",
   "execution_count": null,
   "metadata": {},
   "outputs": [],
   "source": [
    "print( 'dog before removal', dog)\n",
    "del dog['physical']['animal']\n",
    "print( 'dog after removal', dog)"
   ]
  },
  {
   "cell_type": "markdown",
   "metadata": {
    "slideshow": {
     "slide_type": "slide"
    }
   },
   "source": [
    "## Going deeper in nested dictionaries\n",
    "\n",
    "![alt text](deeper.png \"Logo Title\")\n",
    "\n",
    "Create a dictionary for *livingThings*: two fields: \n",
    "- animals\n",
    "    - instances (list)\n",
    "- humans\n",
    "    - instances (list)"
   ]
  },
  {
   "cell_type": "code",
   "execution_count": null,
   "metadata": {
    "slideshow": {
     "slide_type": "slide"
    }
   },
   "outputs": [],
   "source": [
    "livingThings = {\n",
    "    'animals': {\n",
    "        'instances': list() # list of dictionaries\n",
    "    },\n",
    "    'humans': {\n",
    "        'instances': list()\n",
    "    },\n",
    "    'students': {\n",
    "        'instances': [\n",
    "            {\n",
    "                'firstname': 'Brice',\n",
    "                'lastname': 'MAGARIAN',\n",
    "                'email': 'B00757961@essec.edu',\n",
    "                'hasAvatar': True\n",
    "            }\n",
    "        ]\n",
    "    }\n",
    "}\n",
    "\n",
    "ishita = {'firstname': 'Ishita','lastname': 'Parikh','email': 'B00757961@essec.edu','hasAvatar': True}\n",
    "livingThings['students']['instances'].append(ishita)\n",
    "\n",
    "print( livingThings )"
   ]
  },
  {
   "cell_type": "markdown",
   "metadata": {
    "slideshow": {
     "slide_type": "slide"
    }
   },
   "source": [
    "Insert the list of animals (the cat and the dog dicts) inside a *'instances'* field under the *'animals'* field in the livingThings. "
   ]
  },
  {
   "cell_type": "code",
   "execution_count": null,
   "metadata": {},
   "outputs": [],
   "source": [
    "livingThings['animals']['instances'].append(dog)\n",
    "livingThings['animals']['instances'].append(cat)\n",
    "print( livingThings )"
   ]
  },
  {
   "cell_type": "markdown",
   "metadata": {},
   "source": [
    "Insert the *'averageMaxAge'* in the *'animals'* field. (Use basic math operations for this - see course 1 -)"
   ]
  },
  {
   "cell_type": "code",
   "execution_count": null,
   "metadata": {},
   "outputs": [],
   "source": [
    "# First we intialize a variable to increment the total age from the animal instances\n",
    "totalAge = 0\n",
    "# Second we loop over the animal instances to get their 'maxAge' and add it to the totalAge variable\n",
    "for animal in livingThings['animals']['instances']:\n",
    "    totalAge = totalAge + animal['physical']['maxAge']\n",
    "# Third we use basic math operations to compute the average max age and put it into a 'averageMaxAge' variable\n",
    "# total / numberOfElements = basic average here it will be : (11+15) / 2 \n",
    "# the number of elements is the length of the list of animal instances\n",
    "averageMaxAge = totalAge / len( livingThings['animals']['instances'] ) \n",
    "# Finally we put the value into the desired field of our livingThings dictionary\n",
    "livingThings['animals']['averageMaxAge'] = averageMaxAge\n",
    "\n",
    "# Now we can print the averageMaxAge\n",
    "print( 'average maximum age of animals =', livingThings['animals']['averageMaxAge'] )\n",
    "\n",
    "# and print our whole dictionary\n",
    "print( livingThings )"
   ]
  },
  {
   "cell_type": "markdown",
   "metadata": {
    "slideshow": {
     "slide_type": "slide"
    }
   },
   "source": [
    "Create your neighboor as a dictionary.\n",
    "- What's his/her firstName?\n",
    "- What's his/her lastName?\n",
    "- What are his/her favorite foods?\n",
    "- Does he/she have a sweet tooth?\n",
    "- Does he/she prefer cats or dogs?"
   ]
  },
  {
   "cell_type": "code",
   "execution_count": null,
   "metadata": {},
   "outputs": [],
   "source": [
    "# Now you can easily continue by using your neighboor as a source of infos "
   ]
  },
  {
   "cell_type": "markdown",
   "metadata": {
    "slideshow": {
     "slide_type": "slide"
    }
   },
   "source": [
    "Create yourself as a dictionary.\n",
    "- What's your firstName?\n",
    "- What's your lastName?\n",
    "- What are your favorite foods?\n",
    "- Do you have a sweet tooth?\n",
    "- Do you prefer cats or dogs?"
   ]
  },
  {
   "cell_type": "code",
   "execution_count": null,
   "metadata": {},
   "outputs": [],
   "source": [
    "me = {'firstName':'Gaël', 'lastName':'Guibon', 'favoriteFood':'Lytchee', 'sweetTooth':'ofc', 'preferredAnimal': 'dog'}"
   ]
  },
  {
   "cell_type": "markdown",
   "metadata": {
    "slideshow": {
     "slide_type": "slide"
    }
   },
   "source": [
    "Put these two dictionaries into the *'instances'* list."
   ]
  },
  {
   "cell_type": "code",
   "execution_count": null,
   "metadata": {},
   "outputs": [],
   "source": []
  },
  {
   "cell_type": "markdown",
   "metadata": {},
   "source": [
    "Print your *livingThings* dictionary."
   ]
  },
  {
   "cell_type": "code",
   "execution_count": null,
   "metadata": {},
   "outputs": [],
   "source": []
  },
  {
   "cell_type": "markdown",
   "metadata": {
    "slideshow": {
     "slide_type": "slide"
    }
   },
   "source": [
    "# Functions\n",
    "A function is a subprogram, a way to reuse the same code again and again by just calling it.\n",
    "\n",
    "Functions have:\n",
    "- A name\n",
    "- Arguments (if specified)\n",
    "\n",
    "Functions do:\n",
    "- A process\n",
    "- Return something (if specified)\n"
   ]
  },
  {
   "cell_type": "markdown",
   "metadata": {
    "slideshow": {
     "slide_type": "slide"
    }
   },
   "source": [
    "#### Use *docstrings* to documentate functions:\n",
    "```\n",
    "\"\"\" this function does this process and return that value but need those arguments \"\"\"\n",
    "```\n"
   ]
  },
  {
   "cell_type": "code",
   "execution_count": null,
   "metadata": {},
   "outputs": [],
   "source": [
    "def mySuperbFunction(arg1, arg2):\n",
    "    \"\"\" \n",
    "    Creates an new AlphaGo\n",
    "    This superb function needs 2 arguments.\n",
    "    It returns None (such a shame! this function is still useless)\n",
    "    \"\"\"\n",
    "    return None"
   ]
  },
  {
   "cell_type": "markdown",
   "metadata": {
    "slideshow": {
     "slide_type": "slide"
    }
   },
   "source": [
    "#### Examples\n",
    "This function return the sum of the three arguments."
   ]
  },
  {
   "cell_type": "code",
   "execution_count": null,
   "metadata": {},
   "outputs": [],
   "source": [
    "def avg(listOfNumbers):\n",
    "    ''' This computes the mean of a given list of numerical values  '''\n",
    "    return sum(listOfNumbers) / len(listOfNumbers)\n",
    "dogAges = [4,7]\n",
    "print( avg(dogAges) )\n"
   ]
  },
  {
   "cell_type": "code",
   "execution_count": null,
   "metadata": {},
   "outputs": [],
   "source": [
    "# Now that I defined my function I can use it like this\n",
    "resultSum = sumItUp(2,3,-5)\n",
    "print(resultSum)\n"
   ]
  },
  {
   "cell_type": "markdown",
   "metadata": {
    "slideshow": {
     "slide_type": "slide"
    }
   },
   "source": [
    "## Functions optional arguments with default value\n",
    "- Some arguments can have a default value, hence their declaration is optional.\n",
    "- Mandatory args always comes before optional ones\n"
   ]
  },
  {
   "cell_type": "code",
   "execution_count": null,
   "metadata": {},
   "outputs": [],
   "source": [
    "# DEFine the function\n",
    "def createStudent( age, grade, name='noname'):\n",
    "    \"\"\" This creates a student dict with default name as 'noname' \"\"\"\n",
    "    return {'name':name, 'age':age, 'grade':grade}\n",
    "roxane = createStudent(19, )\n",
    "print(roxane)\n",
    "# now use it\n",
    "print( createStudent(19, 20) )\n",
    "print( createStudent( 19, 20, name='superStudent' ) )\n",
    "# as you can see, the name arg is optional"
   ]
  },
  {
   "cell_type": "code",
   "execution_count": null,
   "metadata": {},
   "outputs": [],
   "source": [
    "# this will not work due to the optional arg placed before a mandatory one\n",
    "createStudent(name='thisStudent', 19, 20)"
   ]
  },
  {
   "cell_type": "code",
   "execution_count": null,
   "metadata": {},
   "outputs": [],
   "source": [
    "# this will not work due to the lack of mandatory args\n",
    "createStudent(19)"
   ]
  },
  {
   "cell_type": "markdown",
   "metadata": {
    "slideshow": {
     "slide_type": "slide"
    }
   },
   "source": [
    "## Arbitrary number of arguments"
   ]
  },
  {
   "cell_type": "code",
   "execution_count": null,
   "metadata": {},
   "outputs": [],
   "source": [
    "def showGroup(groupName, *students, **infos):\n",
    "    print('group = ', groupName)\n",
    "    print('='*5, 'Students', '='*5)\n",
    "    for student in students:\n",
    "        print(student)\n",
    "    print('='*5, 'Info', '='*5)\n",
    "    for status, number in infos.items():\n",
    "        print(status, number)\n",
    "belovedStudents = ['Brice','Ghita','Joshua','Maty','Quynh Chi','Julien','Monica','Enora','Ishita','Luis-Felipe','Bianca-Lin','Hugo','Hugo','Alexandre','Olivia Maya','Sabyasache','Anna','Jyl','Giulia','Pierre-Alain','Pierre-Antoine','Adrien','Hsin-Ying','Annaëlle','Roxane','Pauline','Domitille','Ilona','Nanxi','Julia','Iris','Aleksander']\n",
    "showGroup('the best group', belovedStudents[15], belovedStudents[31], pythonLovers=2, superStudents=len(belovedStudents))"
   ]
  },
  {
   "cell_type": "markdown",
   "metadata": {
    "slideshow": {
     "slide_type": "slide"
    }
   },
   "source": [
    "## Variable scope\n",
    "- Variables defined inside a function possess a local scope (not accessible outside of this function)\n",
    "- Variables defined outside a function possess a global scope\n",
    "\n",
    "For instance:"
   ]
  },
  {
   "cell_type": "code",
   "execution_count": null,
   "metadata": {},
   "outputs": [],
   "source": [
    "globalVar = 'I am defined outside a function'\n",
    "def doThis(myVar):\n",
    "    scopedVar = 'I am defined inside a function'\n",
    "    globalVar = 'yes' # available because it is global\n",
    "    print(scopedVar)\n",
    "    return True\n",
    "print(scopedVar)\n",
    "   "
   ]
  },
  {
   "cell_type": "code",
   "execution_count": null,
   "metadata": {},
   "outputs": [],
   "source": [
    "print(globalVar)"
   ]
  },
  {
   "cell_type": "code",
   "execution_count": null,
   "metadata": {},
   "outputs": [],
   "source": [
    "print(scopedVar)\n",
    "# it does not work because we are not inside the function where it is defined"
   ]
  },
  {
   "cell_type": "markdown",
   "metadata": {
    "slideshow": {
     "slide_type": "slide"
    }
   },
   "source": [
    "# Basic Role Playing Game (4)\n",
    "* Objective: construct a textual role playing game. The game is only text with choices, conditions to verify the choices and player status.\n",
    "\n",
    "## Rules\n",
    "* Player advance from a room to another by textually selecting one of the rooms. \n",
    "* Player starts with 200 hp (health points)\n",
    "* A bad decision cost the player to lose 25 hp.\n",
    "* For each actions, display it from a list of Strings\n",
    "* **Represent data as dictionaries or a big nested dict()** (see example below)\n",
    "* **Use functions** to remove code duplicates and reduce the line numbers\n",
    "* **Add status and health modification function**"
   ]
  },
  {
   "cell_type": "code",
   "execution_count": null,
   "metadata": {
    "slideshow": {
     "slide_type": "slide"
    }
   },
   "outputs": [],
   "source": [
    "# Example with dict and basic functions and health management\n",
    "player = dict()\n",
    "print(\"Hello Player One, what's your name?\")\n",
    "player['name'] = input()\n",
    "player['health'] = 200\n",
    "print(\"Welcome\", player['name'])\n",
    "\n",
    "events = { \n",
    "    'first': {\n",
    "        'message': 'Game Over! Try again ' + player['name']\n",
    "    },\n",
    "    'second': {\n",
    "        'message': '''Upon opening the door, you can see a huge fest with exquisite meals everywhere. \n",
    "                   Will you eat it?''', \n",
    "        'paths': {\n",
    "            'yes': { 'message': 'You ate poison and lost 20 hp', 'hploss': 20},\n",
    "            'no': { 'message': 'You are still hungry and lose a bit of hp from hunger', 'hploss': 10}\n",
    "        }\n",
    "    }\n",
    "}\n",
    "pastChoices = []  \n",
    "\n",
    "def removeHealth(amount):\n",
    "    '''  remove some health from the player. And check if he died. '''\n",
    "    player['health'] -= amount\n",
    "    if player['health'] <= 0:\n",
    "        return False\n",
    "    else:\n",
    "        return True\n",
    "\n",
    "def askAction(event, choices):\n",
    "    '''\n",
    "    Ask an action from the user. Stay alive while the action is not recognized.\n",
    "    '''\n",
    "    choice = ''\n",
    "    while choice not in choices:\n",
    "        print('player status', player)\n",
    "        choice = input()\n",
    "        if choice in choices:\n",
    "            print(event[choice]['message'])\n",
    "            if 'hploss' in event[choice]: \n",
    "                alive = removeHealth(event[choice]['hploss'])\n",
    "                if not alive : break\n",
    "            pastChoices.append(choice)\n",
    "            if 'paths' in event[choice]:\n",
    "                askAction(event[choice]['paths'], list(event[choice]['paths'].keys()) )\n",
    "        else:\n",
    "            print('WRONG : Possible choices', choices )\n",
    "    return True\n",
    "            \n",
    "print('''Your are in a tiny room. Humidity fills the air but your stomach reminds you that you are very hungry.\n",
    "        You are in front of two doors. Behind the first one you can hear muffled voices. \n",
    "        Behind the second one you can smell something intriguing.''')\n",
    "print('Which door do you choose? Type', list(events.keys())[0], 'for the first room and', list(events.keys())[1], \n",
    "              'for the second room.')\n",
    "\n",
    "askAction(events, list(events.keys()) )\n",
    "    \n",
    "print('You finished playing the game. Here are your past actions :', pastChoices)\n",
    "print('Here are your remaining stats', player)"
   ]
  },
  {
   "cell_type": "code",
   "execution_count": null,
   "metadata": {},
   "outputs": [],
   "source": [
    "# I define enora as a dictionary\n",
    "enora = {'name':'enora'}\n",
    "# now, I print enora (hey future enora, don't forget to separate values by commas !!!!!!!!!)\n",
    "# print(enora)\n",
    "\n",
    "\n"
   ]
  },
  {
   "cell_type": "code",
   "execution_count": null,
   "metadata": {},
   "outputs": [],
   "source": []
  }
 ],
 "metadata": {
  "celltoolbar": "Diaporama",
  "kernelspec": {
   "display_name": "Python 3",
   "language": "python",
   "name": "python3"
  },
  "language_info": {
   "codemirror_mode": {
    "name": "ipython",
    "version": 3
   },
   "file_extension": ".py",
   "mimetype": "text/x-python",
   "name": "python",
   "nbconvert_exporter": "python",
   "pygments_lexer": "ipython3",
   "version": "3.5.2"
  },
  "livereveal": {
   "autolaunch": true,
   "scroll": true,
   "transition": "none"
  }
 },
 "nbformat": 4,
 "nbformat_minor": 2
}
