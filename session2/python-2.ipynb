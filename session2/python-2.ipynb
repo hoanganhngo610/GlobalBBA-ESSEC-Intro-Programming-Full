{
 "cells": [
  {
   "cell_type": "markdown",
   "metadata": {
    "slideshow": {
     "slide_type": "slide"
    }
   },
   "source": [
    "# Introduction to Programming – Python\n",
    "----\n",
    "\n",
    "## Course 2 – loops and iterables\n",
    "\n",
    "### ESSEC Business School\n",
    "\n",
    "[gael.guibon@gmail.com](gael.guibon@gmail.com)\n",
    "\n",
    "[gael.guibon@telecom-paris.fr](gael.guibon@telecom-paris.fr)\n",
    "\n",
    "Original content inspired by [Clement Plancq's IM courses](https://github.com/clement-plancq/python-im)\n",
    "\n",
    "Licenced under Affero GNU3"
   ]
  },
  {
   "cell_type": "markdown",
   "metadata": {
    "slideshow": {
     "slide_type": "slide"
    }
   },
   "source": [
    "# Summary\n",
    "- **instructions** : `print()`\n",
    "- **basic operators** : logic (`and or`), math (`+ = - /`), membership (`in` `not in`)\n",
    "- **variables** : `name = city` `city = 'Cergy'` \n",
    "- **types concepts and basics** and conversion : `type()` `str()` `bool()` `int()` `float()`\n",
    "- **conditions and nested conditions** : indentations !\n",
    "```python\n",
    "if cond:\n",
    "    if cond:\n",
    "        if cond:\n",
    "            instruction\n",
    "        elif:\n",
    "            instruction\n",
    "        else:\n",
    "            instruction\n",
    "    else:\n",
    "        instruction\n",
    "else:\n",
    "    instruction\n",
    "```\n",
    "- Mini textual game"
   ]
  },
  {
   "cell_type": "markdown",
   "metadata": {
    "slideshow": {
     "slide_type": "slide"
    }
   },
   "source": [
    "# Lists\n",
    "\n",
    "* Variable type\n",
    "* Ordered structure\n",
    "* Iterable\n",
    "* Can contain multiple values\n",
    "* Any types of values\n",
    "* Values can be accessed by index (0 to n-1, n = number of elements)\n",
    "* Index starts at 0"
   ]
  },
  {
   "cell_type": "code",
   "execution_count": null,
   "metadata": {
    "slideshow": {
     "slide_type": "slide"
    }
   },
   "outputs": [],
   "source": [
    "# initialize (both methods aree equal)\n",
    "students = [] # list initialization. Still empty\n",
    "students = list() # another list initialization. Empty\n",
    "\n",
    "# initialize with values\n",
    "students = ['Brice','Ghita', 'Joshua', 'Maty', 'Quynh Chi', 'Julien'] # initialize list with values (prefered way)\n",
    "students = list(['Brice','Ghita', 'Joshua', 'Maty', 'Quynh Chi', 'Julien']) # overkill !\n",
    "\n",
    "# access\n",
    "students[0] # access element by index\n",
    "print(students[3])\n",
    "studentOne = students[0]\n",
    "print('student One =', studentOne)"
   ]
  },
  {
   "cell_type": "code",
   "execution_count": null,
   "metadata": {},
   "outputs": [],
   "source": [
    "# A list is a type\n",
    "print( type( [ 'monday', 'tuesday', 'wednesday' ] ) )\n",
    "\n",
    "# A list can have multiple types \n",
    "superList = [ 'monday', 0, 23.5, 'hi!', ['value1', 'value2'] ]\n",
    "print(type(superList[0]), type(superList[1]), type(superList[2]) )\n",
    "\n",
    "userList = [ ['Brice', 'Magarian', 19], ['Ghita', 'Mouyass', 19] ]\n",
    "print(userList[0])"
   ]
  },
  {
   "cell_type": "markdown",
   "metadata": {
    "slideshow": {
     "slide_type": "slide"
    }
   },
   "source": [
    "# List indexes\n",
    "\n",
    "Floors:\n",
    "0. RDC (ground floor)\n",
    "1. First floor\n",
    "2. Second floor\n",
    "\n",
    "Total floors : 3"
   ]
  },
  {
   "cell_type": "markdown",
   "metadata": {
    "slideshow": {
     "slide_type": "slide"
    }
   },
   "source": [
    "# List functions\n",
    "\n",
    "- Lists have functions for basic operations [fonctions propres](https://docs.python.org/3.6/tutorial/datastructures.html#more-on-lists)\n",
    "- Main functions :\n",
    "  - `append(x)` : add an element at the end of the list\n",
    "  - `extend([x, y, z])` : add all these elements at the end of the list\n",
    "  - `pop([index])` : delete and return the last element of the list (or given indexes)\n",
    "  - `remove(x)` : remove first element with value x\n",
    "  - `index(x)` : return the index of the first element with value x\n",
    "  - `count(x)` : return the number of occurrences for x\n",
    "  - `sort()` : sort the list [doc](https://docs.python.org/3.6/howto/sorting.html#sortinghowto) pour en savoir plus sur les ordres de tri"
   ]
  },
  {
   "cell_type": "code",
   "execution_count": null,
   "metadata": {
    "slideshow": {
     "slide_type": "slide"
    }
   },
   "outputs": [],
   "source": [
    "# init\n",
    "students = ['Brice','Ghita', 'Joshua', 'Maty', 'Quynh Chi', 'Julien', 'Pierre Alain']"
   ]
  },
  {
   "cell_type": "code",
   "execution_count": null,
   "metadata": {},
   "outputs": [],
   "source": [
    "# append a student\n",
    "students.append('Monica')\n",
    "print(students)"
   ]
  },
  {
   "cell_type": "code",
   "execution_count": null,
   "metadata": {},
   "outputs": [],
   "source": [
    "# append multiple students\n",
    "students.extend(['Enora', 'Ishita'])\n",
    "print( students )"
   ]
  },
  {
   "cell_type": "code",
   "execution_count": null,
   "metadata": {
    "slideshow": {
     "slide_type": "slide"
    }
   },
   "outputs": [],
   "source": [
    "# delete and return the last element\n",
    "monica = students.pop()\n",
    "print(monica)"
   ]
  },
  {
   "cell_type": "code",
   "execution_count": null,
   "metadata": {},
   "outputs": [],
   "source": [
    "students.append(monica)\n",
    "students.append(monica)\n",
    "# remove first element with this value\n",
    "students.remove('Monica')\n",
    "print(students)"
   ]
  },
  {
   "cell_type": "code",
   "execution_count": null,
   "metadata": {},
   "outputs": [],
   "source": [
    "# sort list and get index\n",
    "print('Brice is index', students.index('Brice'))\n",
    "students.sort()\n",
    "print(students)\n",
    "print('Brice is now index', students.index('Brice'))"
   ]
  },
  {
   "cell_type": "markdown",
   "metadata": {
    "slideshow": {
     "slide_type": "slide"
    }
   },
   "source": [
    "# Length & sublists\n",
    "\n",
    "- Length is obtained through built-in function `len()`\n",
    "- Sublists can be obtained with index ranges `myList[:5]`. `:` mean 'to the edge' (start or end of the list)"
   ]
  },
  {
   "cell_type": "code",
   "execution_count": null,
   "metadata": {},
   "outputs": [],
   "source": [
    "# print the size of the list (i.e. number of students)\n",
    "print( len( students ) )\n",
    "sliceOfStudents = students[2:]\n",
    "print(len(sliceOfStudents))"
   ]
  },
  {
   "cell_type": "code",
   "execution_count": null,
   "metadata": {
    "slideshow": {
     "slide_type": "slide"
    }
   },
   "outputs": [],
   "source": [
    "# get first 5 elements\n",
    "students[:5] "
   ]
  },
  {
   "cell_type": "code",
   "execution_count": null,
   "metadata": {},
   "outputs": [],
   "source": [
    "# get all except first 3 elements\n",
    "students[3:]\n",
    "# get the last 3 elements\n",
    "students[-3:]"
   ]
  },
  {
   "cell_type": "code",
   "execution_count": null,
   "metadata": {},
   "outputs": [],
   "source": [
    "# get elements between 2 and 5\n",
    "someList = [0, 1, 2, 3, 4, 5, 6, 7, 8, 9]\n",
    "print( someList[2:5])"
   ]
  },
  {
   "cell_type": "markdown",
   "metadata": {
    "slideshow": {
     "slide_type": "slide"
    }
   },
   "source": [
    "# Loops \n",
    "\n",
    "* `while` loops need a condition to stop iterating.\n",
    "```python\n",
    "while conditionIsTrue:\n",
    "    instruction\n",
    "```\n",
    "* `for` loops can be applied to iterables types (`list()` for instance)\n",
    "```java\n",
    "// classic loop in Java (and almost all programming languages)\n",
    "for(int i = 0; i < listOfElements.length; i++){\n",
    "    //instruction\n",
    "}\n",
    "```\n",
    "\n",
    "```python\n",
    "# loop for each in Python\n",
    "for element in listOfElements:\n",
    "    instruction\n",
    "```"
   ]
  },
  {
   "cell_type": "code",
   "execution_count": null,
   "metadata": {
    "slideshow": {
     "slide_type": "slide"
    }
   },
   "outputs": [],
   "source": [
    "# while loop\n",
    "i = 0\n",
    "while i < 5:\n",
    "    print(i) \n",
    "    i = i + 2  # need to change the value or else the condition will never be true and the loop while never stop"
   ]
  },
  {
   "cell_type": "code",
   "execution_count": null,
   "metadata": {},
   "outputs": [],
   "source": [
    "# for loop\n",
    "for n in range(5):\n",
    "    print(n)"
   ]
  },
  {
   "cell_type": "code",
   "execution_count": null,
   "metadata": {},
   "outputs": [],
   "source": [
    "# for loop\n",
    "print(students)\n",
    "briceFound = False\n",
    "for student in students: # will iterate oveer the students in order\n",
    "    if student == 'Brice': \n",
    "        if briceFound: continue\n",
    "        briceFound = True  \n",
    "    print('Student name = ', student)"
   ]
  },
  {
   "cell_type": "markdown",
   "metadata": {
    "slideshow": {
     "slide_type": "slide"
    }
   },
   "source": [
    "# For and While have different usages\n",
    "\n",
    "- \"print 'firstname:' before each student name\""
   ]
  },
  {
   "cell_type": "code",
   "execution_count": null,
   "metadata": {},
   "outputs": [],
   "source": [
    "for student in students:\n",
    "    print('firstname:', student)"
   ]
  },
  {
   "cell_type": "markdown",
   "metadata": {},
   "source": [
    "- \"walk one step after another until you arrive at destination\"\n"
   ]
  },
  {
   "cell_type": "code",
   "execution_count": null,
   "metadata": {},
   "outputs": [],
   "source": [
    "destination = 20\n",
    "currentLocation = 14\n",
    "while currentLocation < destination:\n",
    "    print('walking...')\n",
    "    currentLocation+=1 # increment. compact way to say currentLocation = currentLocation + 1\n",
    "print('Arrived at destination', destination)"
   ]
  },
  {
   "cell_type": "markdown",
   "metadata": {
    "slideshow": {
     "slide_type": "slide"
    }
   },
   "source": [
    "- \"while input is not one of the options continue asking\""
   ]
  },
  {
   "cell_type": "code",
   "execution_count": null,
   "metadata": {},
   "outputs": [],
   "source": [
    "choices = ['adopt', 'kill', 'run'] \n",
    "choice = \"\"\n",
    "while choice not in choices:\n",
    "    choice = input('choose smth:')\n",
    "    if(choice == 'quit'):\n",
    "        print('No stay with meeeee!')\n",
    "        break\n",
    "    elif choice == 'adopt':\n",
    "        print('You adopted the dog')\n",
    "    elif choice =='kill':\n",
    "        print('Why do you do this?!! Murderer !!')\n",
    "    elif choice == 'run':\n",
    "        print(\"The puppy follows you anyway. You don't have any choice!\" )\n",
    "    else:\n",
    "        print(\"not recognized, please type one of the following options\", choices)"
   ]
  },
  {
   "cell_type": "markdown",
   "metadata": {
    "slideshow": {
     "slide_type": "slide"
    }
   },
   "source": [
    "# Skip or exit loops\n",
    "- **continue**: in loops you can use `continue` to directly continue the loop (go to the next iteration).\n",
    "- **break**: in loops you can use `break` to stop the loop and exit it."
   ]
  },
  {
   "cell_type": "code",
   "execution_count": null,
   "metadata": {},
   "outputs": [],
   "source": [
    "students = ['Ghita', 'Joshua', 'Maty', 'Quynh Chi', 'Julien', 'Sabyasache']\n",
    "for student in students:\n",
    "    if student != 'Julien':\n",
    "        print(student, 'is not Julien!')\n",
    "    else:\n",
    "        print('found him!')\n",
    "        break\n",
    "print( students[ students.index('Julien') ] )\n",
    "        \n"
   ]
  },
  {
   "cell_type": "markdown",
   "metadata": {
    "slideshow": {
     "slide_type": "slide"
    }
   },
   "source": [
    "# Basic Role Playing Game (2)\n",
    "* Objective: construct a textual role playing game. The game is only text with choices, conditions to verify the choices and player status.\n",
    "* To do so you need one additional function (see below)\n",
    "\n",
    "## Rules\n",
    "* Player advance from a room to another by textually selecting one of the rooms. \n",
    "* Player starts with 200 hp (health points)\n",
    "* A bad decision cost the player to lose 25 hp.\n",
    "* **While** the player HP is greater than 0, continue playing\n",
    "* **For** each actions, display it from a list of Strings\n",
    "\n",
    "## Input() Function\n",
    "* Retrieve the player input"
   ]
  },
  {
   "cell_type": "code",
   "execution_count": null,
   "metadata": {},
   "outputs": [],
   "source": [
    "# Examples\n",
    "# Get the input function and display a greeting message\n",
    "print(\"Hello Player One, what's your name?\")\n",
    "playerName = input()\n",
    "print(\"Welcome\", playerName)\n",
    "\n",
    "choice = \"\"\n",
    "choices = [\"first\", \"second\"]\n",
    "while choice not in choices:\n",
    "    print('''Your are in a tiny room. Humidity fills the air but your stomach reminds you that you are very hungry.\n",
    "    You are in front of two doors. Behind the first one you can hear muffled voices. \n",
    "    Behind the second one you can smell something intriguing.''')\n",
    "    print('Which door do you choose? Type', choices[0], 'for the first room and', choices[1], 'for the second room.')\n",
    "    print('Type one of the choices:', choices)\n",
    "    choice = input()\n",
    "    if choice == 'first':\n",
    "        print('Game Over! Try again', playerName)\n",
    "    elif choice == 'second':\n",
    "        print('Upon opening the door, you can see a huge fest with exquisite meals everywhere.')\n",
    "    else:\n",
    "        print('WRONG : Possible choices', choices)\n"
   ]
  },
  {
   "cell_type": "markdown",
   "metadata": {
    "slideshow": {
     "slide_type": "subslide"
    }
   },
   "source": [
    "* Complete the Role Playing Game skeleton by adding choices, player HP, etc. \n",
    "* *Tip: this kind of game is a decision tree of choices.*\n",
    "* Use while to keep the playing going on until certain conditions\n",
    "* Use while to check the player hp\n",
    "* Use for to display player' items or actions"
   ]
  },
  {
   "cell_type": "markdown",
   "metadata": {
    "slideshow": {
     "slide_type": "slide"
    }
   },
   "source": [
    "# Dictionaries\n",
    "### quick intro\n",
    "- Dictionaries are another Type of variable `dict()`\n",
    "- Follow only one concept: **Key and Value**\n",
    "- Can contain deeper informations, with explicit hierarchy\n",
    "- Data are not ordered (contrary to `list()` )\n",
    "- Value can be accessed by its associated Key\n",
    "- **Keys are unique** you cannot associate multiple values to one key. \n",
    "* `keys()` returns the list of keys, `values()` returns the list of values\n"
   ]
  },
  {
   "cell_type": "code",
   "execution_count": null,
   "metadata": {},
   "outputs": [],
   "source": [
    "# initialize an empty dictionary\n",
    "dico = {}\n",
    "dico = dict() # both ways are corrects\n",
    "\n",
    "# intialize with values\n",
    "dico = { \"key\" : \"value\" }\n",
    "print(dico)"
   ]
  },
  {
   "cell_type": "code",
   "execution_count": null,
   "metadata": {},
   "outputs": [],
   "source": [
    "# more concrete example\n",
    "player = { \"name\":\"gaël\", \"health\":200 }\n",
    "print(player)"
   ]
  },
  {
   "cell_type": "markdown",
   "metadata": {
    "slideshow": {
     "slide_type": "slide"
    }
   },
   "source": [
    "# Access data from a dict\n",
    "- By specifying the key : number, boolean  or String\n",
    "- Commonly used with String keys"
   ]
  },
  {
   "cell_type": "code",
   "execution_count": null,
   "metadata": {},
   "outputs": [],
   "source": [
    "player[\"name\"]"
   ]
  },
  {
   "cell_type": "code",
   "execution_count": null,
   "metadata": {},
   "outputs": [],
   "source": [
    "# get the list of keys\n",
    "print( player.keys() )\n",
    "\n",
    "# get the list of values\n",
    "print( player.values() )\n"
   ]
  },
  {
   "cell_type": "markdown",
   "metadata": {
    "slideshow": {
     "slide_type": "slide"
    }
   },
   "source": [
    "# Insert or modify data in a dict"
   ]
  },
  {
   "cell_type": "code",
   "execution_count": null,
   "metadata": {},
   "outputs": [],
   "source": [
    "# modify or create the key\n",
    "player[\"items\"] = ['bottle', 'laptop']\n",
    "print(player)\n"
   ]
  },
  {
   "cell_type": "code",
   "execution_count": null,
   "metadata": {},
   "outputs": [],
   "source": [
    "# delete a key : two methods\n",
    "deletedValue = player.pop('items', None)\n",
    "print(deletedValue)\n",
    "print(player)\n",
    "\n",
    "# if you are certain the key exists\n",
    "player[\"items\"] = ['bottle', 'laptop']\n",
    "del player['items']\n",
    "print(player)"
   ]
  },
  {
   "cell_type": "markdown",
   "metadata": {
    "slideshow": {
     "slide_type": "slide"
    }
   },
   "source": [
    "# Represent bigger data\n",
    "- With variable types, especially dict() and list() you can handle more interesting data.\n",
    "- You will often need to represent **nested data**"
   ]
  },
  {
   "cell_type": "code",
   "execution_count": null,
   "metadata": {},
   "outputs": [],
   "source": [
    "# example\n",
    "user = {\n",
    "    'name': 'john',\n",
    "    'age': 19,\n",
    "    'job': 'student',\n",
    "    'friends': ['jack', 'paul'],\n",
    "    'stats': {\n",
    "        'social': 'friendly',\n",
    "        'seriousness': 'bad',\n",
    "        'formerEmployeee': False\n",
    "    }\n",
    "}"
   ]
  },
  {
   "cell_type": "code",
   "execution_count": null,
   "metadata": {},
   "outputs": [],
   "source": [
    "while name == 'hugo':"
   ]
  },
  {
   "cell_type": "markdown",
   "metadata": {
    "slideshow": {
     "slide_type": "slide"
    }
   },
   "source": [
    "# Install local python environnement\n",
    "At home you may want to use Python locally. Here are the steps:\n",
    "1. Download the latest Python (Python3 not 2) from here: [https://www.python.org/downloads/](https://www.python.org/downloads/)\n",
    "2. Install it (if you are using Ubuntu 16.04 you already have Python installed)\n",
    "\n",
    "Start using it:\n",
    "- Open terminal(unix/mac) or CommandLine(windows), type `python` to start an interactive python environnement\n",
    "- Create a file named `my_super_program.py` and type `print('hello')` inside. Execute this file by typing `python3 my_super_program.py`.\n",
    "\n",
    "To code you may need an IDE for smoother coding. I would suggest [Visual Studio Code](https://code.visualstudio.com/Download). For a python only IDE the best one would be [PyCharm](https://www.jetbrains.com/pycharm/)."
   ]
  }
 ],
 "metadata": {
  "celltoolbar": "Diaporama",
  "kernelspec": {
   "display_name": "Python 3",
   "language": "python",
   "name": "python3"
  },
  "language_info": {
   "codemirror_mode": {
    "name": "ipython",
    "version": 3
   },
   "file_extension": ".py",
   "mimetype": "text/x-python",
   "name": "python",
   "nbconvert_exporter": "python",
   "pygments_lexer": "ipython3",
   "version": "3.5.2"
  },
  "livereveal": {
   "autolaunch": true,
   "scroll": true,
   "transition": "none"
  }
 },
 "nbformat": 4,
 "nbformat_minor": 2
}
