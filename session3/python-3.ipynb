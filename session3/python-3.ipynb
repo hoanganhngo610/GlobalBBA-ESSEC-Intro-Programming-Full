{
 "cells": [
  {
   "cell_type": "markdown",
   "metadata": {
    "slideshow": {
     "slide_type": "slide"
    }
   },
   "source": [
    "# Introduction to Programming – Python\n",
    "----\n",
    "\n",
    "## Course 3 – dictionaries & functions\n",
    "\n",
    "### ESSEC Business School\n",
    "\n",
    "[gael.guibon@gmail.com](gael.guibon@gmail.com)\n",
    "\n",
    "[gael.guibon@telecom-paris.fr](gael.guibon@telecom-paris.fr)\n",
    "\n",
    "Original content inspired by [Clement Plancq's IM courses](https://github.com/clement-plancq/python-im)\n",
    "\n",
    "Licenced under Affero GNU3"
   ]
  },
  {
   "cell_type": "markdown",
   "metadata": {
    "slideshow": {
     "slide_type": "slide"
    }
   },
   "source": [
    "# Summary\n",
    "- **instructions** : `print()`\n",
    "- **basic operators** : logic (`and or`), math (`+ = - /`), membership (`in` `not in`)\n",
    "- **variables** : `name = city` `city = 'Cergy'` \n",
    "- **types concepts and basics** and conversion : `type()` `str()` `bool()` `int()` `float()`\n",
    "- **conditions and nested conditions** : indentations !\n",
    "- **lists and lists functions** : `list()`, `myList = ['hello', 'world']`, `myList.append()`, `len(myList)` etc.\n",
    "- **loops** : while `while conditionIsTrue:` and for `for element in elementList:`, `break`, `continue`\n",
    "- Mini textual game"
   ]
  },
  {
   "cell_type": "markdown",
   "metadata": {
    "slideshow": {
     "slide_type": "slide"
    }
   },
   "source": [
    "# Dictionaries\n",
    "- Dictionaries are another Type of variable `dict()`\n",
    "- Follow only one concept: **Key and Value**\n",
    "- Can contain deeper informations, with explicit hierarchy\n",
    "- Data are not ordered (contrary to `list()` )\n",
    "- Value can be accessed by its associated Key\n",
    "- **Keys are unique** you cannot associate multiple values to one key. \n",
    "* `keys()` returns the list of keys, `values()` returns the list of values (you just need to change its type to list())\n"
   ]
  },
  {
   "cell_type": "code",
   "execution_count": null,
   "metadata": {
    "slideshow": {
     "slide_type": "slide"
    }
   },
   "outputs": [],
   "source": [
    "# initialize an empty dictionary\n",
    "dico = {}\n",
    "dico = dict() # both ways are corrects\n",
    "\n",
    "# intialize with values\n",
    "dico = { \"key\" : \"value\" }\n",
    "print(dico)"
   ]
  },
  {
   "cell_type": "code",
   "execution_count": null,
   "metadata": {},
   "outputs": [],
   "source": [
    "# more concrete example\n",
    "player = { \"name\":\"Jyl\", \"health\":200 }\n",
    "print(player)\n",
    "\n",
    "student = {'name':'Adrien', 'age':19, 'friends':['friend1', 'friend2'] }\n",
    "print(student)"
   ]
  },
  {
   "cell_type": "markdown",
   "metadata": {
    "slideshow": {
     "slide_type": "slide"
    }
   },
   "source": [
    "# Access data from a dict\n",
    "- By specifying the key : number, boolean  or String\n",
    "- Commonly used with String keys"
   ]
  },
  {
   "cell_type": "code",
   "execution_count": null,
   "metadata": {},
   "outputs": [],
   "source": [
    "player[\"name\"] = 'whatever'\n",
    "print(player['name'])\n",
    "print(player)\n",
    "print( player['health'] )"
   ]
  },
  {
   "cell_type": "code",
   "execution_count": null,
   "metadata": {},
   "outputs": [],
   "source": [
    "# get the list of keys\n",
    "print( list( player.keys() ) )\n",
    "print( player.keys())\n",
    "\n",
    "# get the list of values\n",
    "print( list( player.values() ) )\n"
   ]
  },
  {
   "cell_type": "markdown",
   "metadata": {
    "slideshow": {
     "slide_type": "slide"
    }
   },
   "source": [
    "# Insert or modify data in a dict"
   ]
  },
  {
   "cell_type": "code",
   "execution_count": null,
   "metadata": {},
   "outputs": [],
   "source": [
    "# modify or create the key\n",
    "player[\"items\"] = ['bottle', 'laptop']\n",
    "print(player)\n"
   ]
  },
  {
   "cell_type": "code",
   "execution_count": null,
   "metadata": {},
   "outputs": [],
   "source": [
    "# delete a key : two methods\n",
    "deletedValue = player.pop('items', None)\n",
    "print(deletedValue)\n",
    "print(player)\n",
    "\n",
    "# if you are certain the key exists\n",
    "player[\"items\"] = ['bottle', 'laptop']\n",
    "del player['items']\n",
    "print(player)"
   ]
  },
  {
   "cell_type": "markdown",
   "metadata": {
    "slideshow": {
     "slide_type": "slide"
    }
   },
   "source": [
    "# Explore a dict()"
   ]
  },
  {
   "cell_type": "code",
   "execution_count": null,
   "metadata": {},
   "outputs": [],
   "source": [
    "# first populate the dict\n",
    "# player = {'name':'maty',   'inventory': ['rose', 'pencil', 'smartphone'],   'grade':'noob'}\n",
    "player = dict()\n",
    "player['name'] = 'maty'\n",
    "player['inventory'] = ['rose', 'pencil', 'smartphone']\n",
    "player['grade'] = 'noob'\n",
    "print('player =', player)\n",
    "# get list of keys\n",
    "print( player.keys(), type(list(player.keys())), len(player.keys()) )\n",
    "# get list of values\n",
    "print( player.values(), type(player.values()), len(player.values()) )"
   ]
  },
  {
   "cell_type": "markdown",
   "metadata": {
    "slideshow": {
     "slide_type": "slide"
    }
   },
   "source": [
    "### Check if a key exists:"
   ]
  },
  {
   "cell_type": "code",
   "execution_count": null,
   "metadata": {},
   "outputs": [],
   "source": [
    "nameFieldExists = 'name' in player\n",
    "print( 'Does the \"name\" field exists in the dictionary \"player\" ?', nameFieldExists)"
   ]
  },
  {
   "cell_type": "code",
   "execution_count": null,
   "metadata": {},
   "outputs": [],
   "source": [
    "itemsFieldExists = 'items' in player\n",
    "print( 'Does the \"items\" field exists in the dictionary \"player\" ?', itemsFieldExists)"
   ]
  },
  {
   "cell_type": "markdown",
   "metadata": {
    "slideshow": {
     "slide_type": "slide"
    }
   },
   "source": [
    "### Iterate over fields in a dict"
   ]
  },
  {
   "cell_type": "code",
   "execution_count": null,
   "metadata": {},
   "outputs": [],
   "source": [
    "for key, value in player.items():\n",
    "    print('key =', key, ' ; value =', value)"
   ]
  },
  {
   "cell_type": "markdown",
   "metadata": {
    "slideshow": {
     "slide_type": "slide"
    }
   },
   "source": [
    "### Get or add field and value\n",
    "`setdefault(key, defaultValue)` returns the value associated to the key. If the key does not exist, it adds the key associated to `defaultValue`."
   ]
  },
  {
   "cell_type": "code",
   "execution_count": null,
   "metadata": {},
   "outputs": [],
   "source": [
    "player.setdefault('age', 0)\n",
    "print(player)"
   ]
  },
  {
   "cell_type": "markdown",
   "metadata": {
    "slideshow": {
     "slide_type": "slide"
    }
   },
   "source": [
    "### Safely access non present field\n",
    "Using `player[key]` will yield an error.\n",
    "You can safely try to access a field by using `player.get(key)`. \n",
    "Returns the value if the key exists, else returns None.\n",
    "\n",
    "``\n",
    "(in pseudo algo)\n",
    "IF key exists:\n",
    "    RETURN the associated value\n",
    "ELSE: \n",
    "    RETURN None\n",
    "``"
   ]
  },
  {
   "cell_type": "code",
   "execution_count": null,
   "metadata": {},
   "outputs": [],
   "source": [
    "print( player['unknownKey'] ) # gives an error"
   ]
  },
  {
   "cell_type": "code",
   "execution_count": null,
   "metadata": {},
   "outputs": [],
   "source": [
    "print(player)\n",
    "print( player.get('unknownKey')) # returns None\n",
    "print( player.get('name') ) # it exists"
   ]
  },
  {
   "cell_type": "markdown",
   "metadata": {
    "slideshow": {
     "slide_type": "slide"
    }
   },
   "source": [
    "# Represent bigger data\n",
    "- With variable types, especially dict() and list() you can handle more interesting data.\n",
    "- You will often need to represent **nested data**"
   ]
  },
  {
   "cell_type": "code",
   "execution_count": null,
   "metadata": {},
   "outputs": [],
   "source": [
    "# example\n",
    "user = {\n",
    "    'name': 'Luis-Felipe', # str()\n",
    "    'age': 19, # int()\n",
    "    'money': 24000.56, # float()\n",
    "    'job': 'student', # str()\n",
    "    'friends': ['jack', 'paul'], # list() of two str()\n",
    "    'stats': {\n",
    "        'social': 'very friendly', # str()\n",
    "        'seriousness': 'Perfect', # str()\n",
    "        'formerEmployeee': False # bool()\n",
    "    } # dict()\n",
    "} # dict()\n",
    "\n",
    "print(user) \n",
    "print(user['stats']['social'])"
   ]
  },
  {
   "cell_type": "markdown",
   "metadata": {
    "slideshow": {
     "slide_type": "slide"
    }
   },
   "source": [
    "# Basic Role Playing Game (3)\n",
    "* Objective: construct a textual role playing game. The game is only text with choices, conditions to verify the choices and player status.\n",
    "\n",
    "## Rules\n",
    "* Player advance from a room to another by textually selecting one of the rooms. \n",
    "* Player starts with 200 hp (health points)\n",
    "* A bad decision cost the player to lose 25 hp.\n",
    "* For each actions, display it from a list of Strings\n",
    "* **Represent data as dictionaries or a big nested dict()** (see example below)"
   ]
  },
  {
   "cell_type": "code",
   "execution_count": null,
   "metadata": {
    "slideshow": {
     "slide_type": "slide"
    }
   },
   "outputs": [],
   "source": [
    " # Get the input function and display a greeting message\n",
    "player = dict() \n",
    "print(\"Hello Player One, what's your name?\")\n",
    "player['name'] = input()\n",
    "print(\"Welcome\", player['name'])\n",
    "\n",
    "choice = ''\n",
    "events = { \n",
    "    'first': {\n",
    "        'message': 'Game Over! Try again' + player['name']\n",
    "    },\n",
    "    'second': {\n",
    "        'messages': ['Upon opening the door, you can see a huge fest with exquisite meals everywhere.', 'heyy'],\n",
    "        'follow':{}\n",
    "    }\n",
    "}\n",
    "pastEvents = []  \n",
    "\n",
    "while choice not in events.keys():\n",
    "    print('''Your are in a tiny room. Humidity fills the air but your stomach reminds you that you are very hungry.\n",
    "    You are in front of two doors. Behind the first one you can hear muffled voices. \n",
    "    Behind the second one you can smell something intriguing.''')\n",
    "    print('Which door do you choose? Type', list(events.keys())[0], 'for the first room and', list(events.keys())[1], \n",
    "          'for the second room.')\n",
    "    choice = input()\n",
    "    if choice in events.keys():\n",
    "        pastEvents.append(choice)\n",
    "#         if type(events[choice]['message']) == str():\n",
    "        if 'messages' in events[choice]:\n",
    "            for message in events[choice]['messages']:\n",
    "                print(message)\n",
    "        else:\n",
    "            print(events[choice]['message'])\n",
    "    else:\n",
    "        print('WRONG : Possible choices', list(events.keys()) )\n",
    "\n",
    "print(pastEvents)"
   ]
  },
  {
   "cell_type": "code",
   "execution_count": null,
   "metadata": {},
   "outputs": [],
   "source": [
    "user = {'job': 'student'}\n",
    "print('before',user)\n",
    "user['job'] = 'teacher'\n",
    "print('after',user)"
   ]
  },
  {
   "cell_type": "markdown",
   "metadata": {
    "slideshow": {
     "slide_type": "slide"
    }
   },
   "source": [
    "* Complete the Role Playing Game skeleton by adding choices, player HP, etc. \n",
    "* *Tip: this kind of game is a decision tree of choices.* : the decision tree is represented as a nested dictionary\n",
    "* Use while to keep the playing going on until certain conditions\n",
    "* Use for to display player' items or actions"
   ]
  },
  {
   "cell_type": "markdown",
   "metadata": {
    "slideshow": {
     "slide_type": "slide"
    }
   },
   "source": [
    "# Install local python environnement\n",
    "At home you may want to use Python locally. Here are the steps:\n",
    "1. Download the latest Python (Python3 not 2) from here: [https://www.python.org/downloads/](https://www.python.org/downloads/)\n",
    "2. Install it (if you are using Ubuntu 16.04 you already have Python installed)\n",
    "\n",
    "Start using it:\n",
    "- Open terminal(unix/mac) or CommandLine(windows), type `python` to start an interactive python environnement\n",
    "- Create a file named `my_super_program.py` and type `print('hello')` inside. Execute this file by typing `python3 my_super_program.py`.\n",
    "\n",
    "To code you may need an IDE for smoother coding. I would suggest [Visual Studio Code](https://code.visualstudio.com/Download). For a python only IDE the best one would be [PyCharm](https://www.jetbrains.com/pycharm/)."
   ]
  },
  {
   "cell_type": "markdown",
   "metadata": {
    "slideshow": {
     "slide_type": "slide"
    }
   },
   "source": [
    "# Functions\n",
    "### Quick intro\n",
    "A function is a subprogram, a way to reuse the same code again and again by just calling it.\n",
    "\n",
    "Functions have:\n",
    "- A name\n",
    "- Arguments (if specified)\n",
    "\n",
    "Functions do:\n",
    "- A process\n",
    "- Return something (if specified)\n"
   ]
  },
  {
   "cell_type": "markdown",
   "metadata": {
    "slideshow": {
     "slide_type": "slide"
    }
   },
   "source": [
    "#### Use *docstrings* to documentate functions:\n",
    "```\n",
    "\"\"\" this function does this process and return that value but need those arguments \"\"\"\n",
    "```\n"
   ]
  },
  {
   "cell_type": "code",
   "execution_count": null,
   "metadata": {},
   "outputs": [],
   "source": [
    "def mySuperbFunction(arg1, arg2):\n",
    "    \"\"\" \n",
    "    This superb function needs 2 arguments.\n",
    "    It returns None (such a shame! this function is still useless)\n",
    "    \"\"\"\n",
    "    return None\n",
    "\n",
    "print( mySuperbFunction('hey') )\n"
   ]
  },
  {
   "cell_type": "markdown",
   "metadata": {
    "slideshow": {
     "slide_type": "slide"
    }
   },
   "source": [
    "#### Examples\n",
    "This function return the sum of the three arguments."
   ]
  },
  {
   "cell_type": "code",
   "execution_count": null,
   "metadata": {},
   "outputs": [],
   "source": [
    "def sumItUp(arg1, arg2, arg3):\n",
    "    \"\"\"\n",
    "    Well, this is but a sum of the 3 args.\n",
    "    \"\"\"\n",
    "    return arg1 + arg2 + arg3"
   ]
  },
  {
   "cell_type": "code",
   "execution_count": null,
   "metadata": {},
   "outputs": [],
   "source": [
    "# Now that I defined my function I can use it like this\n",
    "resultSum = sumItUp(2,3,-5)\n",
    "print(resultSum)\n"
   ]
  },
  {
   "cell_type": "markdown",
   "metadata": {
    "slideshow": {
     "slide_type": "slide"
    }
   },
   "source": [
    "## Functions optional arguments with default value\n",
    "- Some arguments can have a default value, hence their declaration is optional.\n",
    "- Mandatory args always comes before optional ones\n"
   ]
  },
  {
   "cell_type": "code",
   "execution_count": null,
   "metadata": {},
   "outputs": [],
   "source": [
    "# DEFine the function\n",
    "def createStudent( age, grade, name='noname'):\n",
    "    \"\"\" This creates a student dict with default name as 'noname' \"\"\"\n",
    "    return {'name':name, 'age':age, 'grade':grade}\n",
    "\n",
    "# now use it\n",
    "# print( createStudent(19, 20) )\n",
    "print( createStudent( 19, 20, name='Anna' ) )\n",
    "# as you can see, the name arg is optional"
   ]
  },
  {
   "cell_type": "code",
   "execution_count": null,
   "metadata": {},
   "outputs": [],
   "source": [
    "# this will not work due to the optional arg placed before a mandatory one\n",
    "createStudent(name='thisStudent', 19, 20)"
   ]
  },
  {
   "cell_type": "code",
   "execution_count": null,
   "metadata": {},
   "outputs": [],
   "source": [
    "# this will not work due to the lack of mandatory args\n",
    "createStudent(19)"
   ]
  },
  {
   "cell_type": "markdown",
   "metadata": {
    "slideshow": {
     "slide_type": "slide"
    }
   },
   "source": [
    "# Basic Role Playing Game (4)\n",
    "* Objective: construct a textual role playing game. The game is only text with choices, conditions to verify the choices and player status.\n",
    "\n",
    "## Rules\n",
    "* Player advance from a room to another by textually selecting one of the rooms. \n",
    "* Player starts with 200 hp (health points)\n",
    "* A bad decision cost the player to lose 25 hp.\n",
    "* For each actions, display it from a list of Strings\n",
    "* **Represent data as dictionaries or a big nested dict()** (see example below)\n",
    "* **Use functions** to remove code duplicates and reduce the line numbers"
   ]
  },
  {
   "cell_type": "code",
   "execution_count": null,
   "metadata": {
    "slideshow": {
     "slide_type": "slide"
    }
   },
   "outputs": [],
   "source": [
    "# Example with dict and basic functions\n",
    "player = dict()\n",
    "print(\"Hello Player One, what's your name?\")\n",
    "player['name'] = input()\n",
    "print(\"Welcome\", player['name'])\n",
    "\n",
    "events = { \n",
    "    'first': {\n",
    "        'message': 'Game Over! Try again ' + player['name']\n",
    "    },\n",
    "    'second': {\n",
    "        'message': '''Upon opening the door, you can see a huge fest with exquisite meals everywhere. \n",
    "                   Will you eat it?''', \n",
    "        'paths': {\n",
    "            'yes': { 'message': 'You died from poison'},\n",
    "            'no': { 'message': '`You died from hunger'}\n",
    "        }}\n",
    "}\n",
    "pastChoices = []  \n",
    "\n",
    "\n",
    "\n",
    "def askAction(event, choices):\n",
    "    '''\n",
    "    Ask an action from the user. Stay alive while the action is not recognized.\n",
    "    '''\n",
    "    choice = ''\n",
    "    while choice not in choices:\n",
    "        choice = input()\n",
    "        if choice in choices:\n",
    "            print(event[choice]['message'])\n",
    "            pastChoices.append(choice)\n",
    "            if('paths' in event[choice]):\n",
    "                askAction(event[choice]['paths'], list(event[choice]['paths'].keys()) )\n",
    "        else:\n",
    "            print('WRONG : Possible choices', choices )\n",
    "    return True\n",
    "            \n",
    "print('''Your are in a tiny room. Humidity fills the air but your stomach reminds you that you are very hungry.\n",
    "        You are in front of two doors. Behind the first one you can hear muffled voices. \n",
    "        Behind the second one you can smell something intriguing.''')\n",
    "print('Which door do you choose? Type', list(events.keys())[0], 'for the first room and', list(events.keys())[1], \n",
    "              'for the second room.')\n",
    "\n",
    "askAction(events, list(events.keys()) )\n",
    "    \n",
    "print('You finished playing the game. Here are your past actions :', pastChoices)"
   ]
  }
 ],
 "metadata": {
  "celltoolbar": "Diaporama",
  "kernelspec": {
   "display_name": "Python 3",
   "language": "python",
   "name": "python3"
  },
  "language_info": {
   "codemirror_mode": {
    "name": "ipython",
    "version": 3
   },
   "file_extension": ".py",
   "mimetype": "text/x-python",
   "name": "python",
   "nbconvert_exporter": "python",
   "pygments_lexer": "ipython3",
   "version": "3.5.2"
  },
  "livereveal": {
   "autolaunch": true,
   "scroll": true,
   "transition": "none"
  }
 },
 "nbformat": 4,
 "nbformat_minor": 2
}
